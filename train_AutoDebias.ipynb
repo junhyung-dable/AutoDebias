{
 "cells": [
  {
   "cell_type": "code",
   "execution_count": 1,
   "metadata": {},
   "outputs": [],
   "source": [
    "import os\n",
    "import numpy as np\n",
    "import random\n",
    "\n",
    "import torch\n",
    "import torch.nn as nn\n",
    "\n",
    "from model import *\n",
    "\n",
    "import arguments"
   ]
  },
  {
   "cell_type": "code",
   "execution_count": 2,
   "metadata": {},
   "outputs": [],
   "source": [
    "import utils.load_dataset\n",
    "import utils.data_loader\n",
    "import utils.metrics\n",
    "from utils.early_stop import EarlyStopping, Stop_args"
   ]
  },
  {
   "cell_type": "code",
   "execution_count": 3,
   "metadata": {},
   "outputs": [],
   "source": [
    "from utils.metrics import auc"
   ]
  },
  {
   "cell_type": "code",
   "execution_count": 4,
   "metadata": {},
   "outputs": [],
   "source": [
    "dataset = 'yahooR3'\n",
    "base_model_args = {'emb_dim': 10, 'learning_rate': 0.01, 'imputaion_lambda': 0.01, 'weight_decay': 1}\n",
    "weight1_model_args ={'learning_rate': 0.1, 'weight_decay': 0.001}\n",
    "weight2_model_args =  {'learning_rate': 1e-3, 'weight_decay': 1e-2}\n",
    "imputation_model_args = {'learning_rate': 1e-1, 'weight_decay': 1e-4}\n",
    "training_args =  {'batch_size': 1024, 'epochs': 100, 'patience': 20, 'block_batch': [1000, 100]}\n",
    "uniform_ratio = 0.05\n",
    "seed = 0"
   ]
  },
  {
   "cell_type": "code",
   "execution_count": 5,
   "metadata": {},
   "outputs": [],
   "source": [
    "from train_implicit import setup_seed\n",
    "setup_seed(seed)"
   ]
  },
  {
   "cell_type": "code",
   "execution_count": 6,
   "metadata": {},
   "outputs": [
    {
     "name": "stdout",
     "output_type": "stream",
     "text": [
      "cuda\n"
     ]
    }
   ],
   "source": [
    "device = torch.device('cuda' if torch.cuda.is_available() else 'cpu')\n",
    "print(device)\n"
   ]
  },
  {
   "attachments": {},
   "cell_type": "markdown",
   "metadata": {},
   "source": [
    "## Load Dataset"
   ]
  },
  {
   "cell_type": "code",
   "execution_count": 7,
   "metadata": {},
   "outputs": [],
   "source": [
    "dataset='yahooR3'\n",
    "training_args = {'batch_size': 1024,\n",
    "                 'epochs': 500, \n",
    "                 'patience': 60, \n",
    "                 'block_batch': [6000, 500]}\n",
    "\n",
    "base_model_args = {'emb_dim': 10, \n",
    "                   'learning_rate': 0.0001, \n",
    "                   'imputaion_lambda': 1, \n",
    "                   'weight_decay': 1}\n",
    "weight1_model_args = {'learning_rate': 0.01, 'weight_decay': 0.01}\n",
    "weight2_model_args = {'learning_rate': 1e-3, 'weight_decay': 1e-2}\n",
    "imputation_model_args = {'emb_dim': 10, 'learning_rate': 1e-1, 'weight_decay': 1e-4}"
   ]
  },
  {
   "cell_type": "code",
   "execution_count": 8,
   "metadata": {},
   "outputs": [],
   "source": [
    "# args = arguments.parse_args()\n",
    "# para(args)\n",
    "setup_seed(seed)\n",
    "device = torch.device('cuda' if torch.cuda.is_available() else 'cpu')\n"
   ]
  },
  {
   "cell_type": "code",
   "execution_count": 9,
   "metadata": {},
   "outputs": [],
   "source": [
    "# To generate implicit feedback data, we also use the aforementioned\n",
    "# datasets, but abandon the negative feedback of the training data.\n",
    "train, unif_train, validation, test = utils.load_dataset.load_dataset(data_name=dataset, type = 'implicit', seed = seed, device=device)\n"
   ]
  },
  {
   "cell_type": "code",
   "execution_count": 10,
   "metadata": {},
   "outputs": [
    {
     "data": {
      "text/plain": [
       "(torch.Size([15400, 1000]),\n",
       " torch.Size([15400, 1000]),\n",
       " torch.Size([15400, 1000]),\n",
       " torch.Size([15400, 1000]))"
      ]
     },
     "execution_count": 10,
     "metadata": {},
     "output_type": "execute_result"
    }
   ],
   "source": [
    "train.shape, unif_train.shape, validation.shape, test.shape"
   ]
  },
  {
   "cell_type": "code",
   "execution_count": 11,
   "metadata": {},
   "outputs": [
    {
     "data": {
      "text/plain": [
       "tensor(indices=tensor([[    0,     0,     0,  ..., 15399, 15399, 15399],\n",
       "                       [   13,   152,   169,  ...,   563,   636,   948]]),\n",
       "       values=tensor([1., 1., 1.,  ..., 1., 1., 1.]),\n",
       "       device='cuda:0', size=(15400, 1000), nnz=125077, layout=torch.sparse_coo)"
      ]
     },
     "execution_count": 11,
     "metadata": {},
     "output_type": "execute_result"
    }
   ],
   "source": [
    "train"
   ]
  },
  {
   "cell_type": "code",
   "execution_count": 12,
   "metadata": {},
   "outputs": [
    {
     "data": {
      "text/plain": [
       "(torch.Size([2, 125077]), torch.Size([125077]), 125077)"
      ]
     },
     "execution_count": 12,
     "metadata": {},
     "output_type": "execute_result"
    }
   ],
   "source": [
    "train._indices().shape, train._values().shape, train._nnz()"
   ]
  },
  {
   "cell_type": "code",
   "execution_count": 13,
   "metadata": {},
   "outputs": [],
   "source": [
    "from train_implicit import train_and_eval\n",
    "\n",
    "# train_and_eval(train, \n",
    "#                unif_train, \n",
    "#                validation, \n",
    "#                test,\n",
    "#                device,\n",
    "#                base_model_args = base_model_args, \n",
    "#                weight1_model_args = weight1_model_args,\n",
    "#                weight2_model_args = weight2_model_args,\n",
    "#                imputation_model_args = imputation_model_args, \n",
    "#                training_args = training_args)"
   ]
  },
  {
   "attachments": {},
   "cell_type": "markdown",
   "metadata": {},
   "source": [
    "## Proposed Model - AutoDebias"
   ]
  },
  {
   "cell_type": "code",
   "execution_count": 14,
   "metadata": {},
   "outputs": [],
   "source": [
    "train_data, unif_train_data, val_data, test_data = train, unif_train, validation, test"
   ]
  },
  {
   "cell_type": "code",
   "execution_count": 15,
   "metadata": {},
   "outputs": [],
   "source": [
    "train_dense = train_data.to_dense()"
   ]
  },
  {
   "cell_type": "code",
   "execution_count": 18,
   "metadata": {},
   "outputs": [
    {
     "data": {
      "text/plain": [
       "torch.Size([15400, 1000])"
      ]
     },
     "execution_count": 18,
     "metadata": {},
     "output_type": "execute_result"
    }
   ],
   "source": [
    "train_dense.shape"
   ]
  },
  {
   "cell_type": "code",
   "execution_count": 19,
   "metadata": {},
   "outputs": [],
   "source": [
    "users_unif, items_unif = unif_train_data._indices()[0], unif_train_data._indices()[1]\n",
    "y_unif = unif_train_data._values()"
   ]
  },
  {
   "cell_type": "code",
   "execution_count": 25,
   "metadata": {},
   "outputs": [],
   "source": [
    "train_loader = utils.data_loader.Block(train_data, u_batch_size=training_args['block_batch'][0], i_batch_size=training_args['block_batch'][1], device=device)\n",
    "val_loader = utils.data_loader.DataLoader(utils.data_loader.Interactions(val_data), batch_size=training_args['batch_size'], shuffle=False, num_workers=0)\n",
    "test_loader = utils.data_loader.DataLoader(utils.data_loader.Interactions(test_data), batch_size=training_args['batch_size'], shuffle=False, num_workers=0)"
   ]
  },
  {
   "cell_type": "code",
   "execution_count": 17,
   "metadata": {},
   "outputs": [
    {
     "data": {
      "text/plain": [
       "utils.data_loader.Block"
      ]
     },
     "execution_count": 17,
     "metadata": {},
     "output_type": "execute_result"
    }
   ],
   "source": [
    "type(train_loader)"
   ]
  },
  {
   "cell_type": "code",
   "execution_count": 26,
   "metadata": {},
   "outputs": [],
   "source": [
    "# data shape\n",
    "n_user, n_item = train_data.shape\n",
    "\n",
    "# Base model and its optimizer. This optimizer is for optimize parameters in base model using the updated weights (true optimization).\n",
    "base_model = MetaMF(n_user, n_item, dim=base_model_args['emb_dim'], dropout=0).to(device)\n",
    "base_optimizer = torch.optim.SGD(base_model.params(), lr=base_model_args['learning_rate'], weight_decay=0) # todo: other optimizer SGD\n",
    "\n",
    "# Weight model and its optimizer. This optimizer is for optimize parameters of weight model. \n",
    "weight1_model = TwoLinear(n_user, n_item).to(device)\n",
    "weight1_optimizer = torch.optim.Adam(weight1_model.parameters(), lr=weight1_model_args['learning_rate'], weight_decay=weight1_model_args['weight_decay'])\n",
    "\n",
    "weight2_model = ThreeLinear(n_user, n_item, 2).to(device)\n",
    "weight2_optimizer = torch.optim.Adam(weight2_model.parameters(), lr=weight2_model_args['learning_rate'], weight_decay=weight2_model_args['weight_decay'])\n",
    "\n",
    "imputation_model = OneLinear(2).to(device)\n",
    "imputation_optimizer = torch.optim.Adam(imputation_model.parameters(), lr=imputation_model_args['learning_rate'], weight_decay=imputation_model_args['weight_decay'])\n"
   ]
  },
  {
   "cell_type": "code",
   "execution_count": 27,
   "metadata": {},
   "outputs": [],
   "source": [
    "# loss_criterion\n",
    "sum_criterion = nn.MSELoss(reduction='sum')\n",
    "none_criterion = nn.MSELoss(reduction='none')"
   ]
  },
  {
   "attachments": {},
   "cell_type": "markdown",
   "metadata": {},
   "source": [
    "### Train start"
   ]
  },
  {
   "cell_type": "code",
   "execution_count": 93,
   "metadata": {},
   "outputs": [],
   "source": [
    "training_loss = 0"
   ]
  },
  {
   "cell_type": "code",
   "execution_count": 28,
   "metadata": {},
   "outputs": [
    {
     "name": "stdout",
     "output_type": "stream",
     "text": [
      "15400 1000\n"
     ]
    }
   ],
   "source": [
    "n_user, n_item = train_data.shape\n",
    "print(n_user, n_item)"
   ]
  },
  {
   "cell_type": "code",
   "execution_count": 29,
   "metadata": {},
   "outputs": [],
   "source": [
    "# Early stopping\n",
    "stopping_args = Stop_args(patience=training_args['patience'], max_epochs=training_args['epochs'])\n",
    "early_stopping = EarlyStopping(base_model, **stopping_args)"
   ]
  },
  {
   "cell_type": "code",
   "execution_count": 30,
   "metadata": {},
   "outputs": [],
   "source": [
    "users, items = next(iter(train_loader.User_loader)), next(iter(train_loader.Item_loader))"
   ]
  },
  {
   "cell_type": "code",
   "execution_count": 31,
   "metadata": {},
   "outputs": [
    {
     "name": "stdout",
     "output_type": "stream",
     "text": [
      "tensor([14527, 14920,  4534,  ..., 13982, 14032, 10839], device='cuda:0')\n"
     ]
    }
   ],
   "source": [
    "print(users) # dim: 6000"
   ]
  },
  {
   "cell_type": "code",
   "execution_count": 32,
   "metadata": {},
   "outputs": [
    {
     "name": "stdout",
     "output_type": "stream",
     "text": [
      "tensor([ 33, 435, 864, 289, 797, 373,  48,  98, 809,  37, 521, 148, 123, 718,\n",
      "        460, 239, 847, 401, 359, 352, 314, 326, 881, 657, 727, 120, 346, 960,\n",
      "        926, 292, 848, 988, 423, 919, 223, 992, 201, 243, 885,  59, 158, 922,\n",
      "         65, 135, 211, 272, 277,  42, 920,  77, 739, 230, 756,  86,  20, 819,\n",
      "          9, 244, 296,   1, 448, 366, 554, 312, 653, 498, 508, 642, 154,  66,\n",
      "        196, 227, 379, 476,  92, 478, 311, 853, 496, 802,   8, 345, 984, 640,\n",
      "        697, 468, 481,  74, 271, 130, 495, 562, 193, 764, 806, 221, 100, 324,\n",
      "        118, 578, 691,   2, 592, 736,  41, 690, 663, 350, 596, 128, 119, 371,\n",
      "        873, 461, 660, 671, 713, 816, 446, 798, 963, 731, 870, 807, 765, 146,\n",
      "        419, 755,  69, 958, 523, 259, 437, 956, 237, 504, 182, 980, 538, 441,\n",
      "        964, 805, 574, 712, 273, 524, 205,  68, 833, 903, 145, 948, 175, 197,\n",
      "         58, 852, 288, 876, 821, 336, 792, 631,  60, 934, 780, 693, 716, 830,\n",
      "         15, 998, 724, 329, 333, 630, 577, 191, 200, 676, 814, 398, 385, 563,\n",
      "        159,  22, 969, 560, 415, 286, 637, 266, 594, 369, 173,  73, 390, 921,\n",
      "        740,  52, 973, 721, 440, 411, 307,  25, 409, 590, 413, 190, 957,  57,\n",
      "        652, 714, 748, 791, 661, 279, 880, 678, 959, 954, 656, 609, 353, 584,\n",
      "         97, 183, 820, 536, 104, 566, 981,  85, 202, 729, 194, 907, 417, 210,\n",
      "        339, 174, 382, 600,  63, 114, 456,  67, 734, 682, 380, 515, 570, 644,\n",
      "        249,  80, 646, 561, 131, 454, 470, 546, 215, 759, 318, 940, 471, 224,\n",
      "         36, 625, 832, 161, 779, 966, 658, 287,  49, 670, 659, 842, 432, 220,\n",
      "        463, 254, 778,  35, 322, 107, 951,  13, 462, 750,  40, 303, 783, 389,\n",
      "        587, 525, 925, 317, 548, 865, 444, 722, 261, 879, 558, 704, 751, 445,\n",
      "        911, 887, 269, 156, 233, 892, 364, 677, 490, 698, 766, 177, 758,  34,\n",
      "        930, 953, 945, 846, 965, 483, 883, 149, 301, 875, 375, 381, 357, 506,\n",
      "        666, 968, 616, 124, 500, 180, 651, 374, 396, 815, 841, 986,   3, 982,\n",
      "        458, 787, 250, 283, 857,  90, 232, 457, 800, 767, 607, 552, 898, 939,\n",
      "         27, 300, 268, 665,  94, 761, 824, 737, 455, 668, 267, 403, 891, 703,\n",
      "        544, 313, 557,  99, 291, 499,  44, 391, 598, 695, 510,  43, 611, 711,\n",
      "        360, 295, 503, 632, 262, 542, 545, 700, 601, 514, 217, 772, 753, 720,\n",
      "        585, 497, 165, 206, 745, 952, 604, 447, 623, 297, 599, 626, 732, 786,\n",
      "        517, 946, 163, 203, 320, 573, 321, 947, 910,  46, 252, 306, 999, 466,\n",
      "        293, 995, 505, 641, 845, 905, 989, 235, 790, 743, 843, 912, 784, 567,\n",
      "        572, 406, 106,  89, 335, 274, 427, 854, 430, 762, 212, 932, 479, 795,\n",
      "        987, 591, 961, 933, 531, 915, 931, 222, 605, 136, 593, 725, 785, 480,\n",
      "        341, 825, 108, 429, 709, 757, 184, 871, 728, 216, 529,  11, 343, 442,\n",
      "         72, 569, 397, 376, 927, 610, 979, 275, 967, 150], device='cuda:0')\n"
     ]
    }
   ],
   "source": [
    "print(items) # dim: 500"
   ]
  },
  {
   "cell_type": "code",
   "execution_count": 33,
   "metadata": {},
   "outputs": [],
   "source": [
    "# y_train: all 1's\n",
    "# dim of users_train, items_train ~ 25000 (train._nnz() * 6000 * 500)\n",
    "users_train, items_train, y_train = train_loader.get_batch(users, items, device)"
   ]
  },
  {
   "cell_type": "code",
   "execution_count": 64,
   "metadata": {},
   "outputs": [
    {
     "data": {
      "text/plain": [
       "(torch.Size([24496]), torch.Size([24496]), torch.Size([24496]))"
      ]
     },
     "execution_count": 64,
     "metadata": {},
     "output_type": "execute_result"
    }
   ],
   "source": [
    "users_train.size(), items_train.size(), y_train.size()"
   ]
  },
  {
   "attachments": {},
   "cell_type": "markdown",
   "metadata": {},
   "source": [
    "### Step 1: Assumed update of $\\theta$ (update parameters one_step )"
   ]
  },
  {
   "cell_type": "code",
   "execution_count": 40,
   "metadata": {},
   "outputs": [],
   "source": [
    "# calculate weight 1: w_k^{(1)}, only for training data (Eq 17.)\n",
    "weight1_model.train()\n",
    "weight1 = weight1_model(users_train, items_train)\n",
    "weight1 = torch.exp(weight1/5) # for stable training"
   ]
  },
  {
   "cell_type": "code",
   "execution_count": 54,
   "metadata": {},
   "outputs": [],
   "source": [
    "# all pair\n",
    "all_pair = torch.cartesian_prod(users, items)\n",
    "users_all, items_all = all_pair[:,0], all_pair[:,1]"
   ]
  },
  {
   "cell_type": "code",
   "execution_count": 52,
   "metadata": {},
   "outputs": [],
   "source": [
    "# calculate weight2: w_{ui}^{(2)} (Eq 17.)\n",
    "# ((train_dense[users_all, items_all]!=0)*1): unobserved -> 1, observed -> 0\n",
    "weight2_model.train()\n",
    "weight2 = weight2_model(users_all, items_all, ((train_dense[users_all, items_all]!=0)*1))\n",
    "weight2 = torch.exp(weight2/5) # for stable training"
   ]
  },
  {
   "cell_type": "code",
   "execution_count": 67,
   "metadata": {},
   "outputs": [],
   "source": [
    "# calculate imputation values\n",
    "imputation_model.train()\n",
    "impu_all = torch.tanh(imputation_model((train_dense[users_all, items_all]).long()))"
   ]
  },
  {
   "attachments": {},
   "cell_type": "markdown",
   "metadata": {},
   "source": [
    "### 1. Assumed Update of theta (Black arrow)"
   ]
  },
  {
   "cell_type": "code",
   "execution_count": 59,
   "metadata": {},
   "outputs": [],
   "source": [
    "# one_step_model : assumed model, just update one step on base model. It is for updating parameters\n",
    "one_step_model = MetaMF(n_user, n_item, dim=base_model_args['emb_dim'], dropout=0)"
   ]
  },
  {
   "cell_type": "code",
   "execution_count": 63,
   "metadata": {},
   "outputs": [
    {
     "data": {
      "text/plain": [
       "MetaMF(\n",
       "  (user_latent): MetaEmbed()\n",
       "  (item_latent): MetaEmbed()\n",
       "  (user_bias): MetaEmbed()\n",
       "  (item_bias): MetaEmbed()\n",
       "  (dropout): Dropout(p=0, inplace=False)\n",
       ")"
      ]
     },
     "execution_count": 63,
     "metadata": {},
     "output_type": "execute_result"
    }
   ],
   "source": [
    "one_step_model.load_state_dict(base_model.state_dict())\n",
    "\n",
    "one_step_model.train()\n"
   ]
  },
  {
   "cell_type": "code",
   "execution_count": 76,
   "metadata": {},
   "outputs": [],
   "source": [
    "# formal parameter: using training set to update parameters\n",
    "# 1) observation data\n",
    "y_hat_obs = one_step_model(users_train, items_train)\n",
    "cost_obs = none_criterion(y_hat_obs, y_train)\n",
    "loss_obs = torch.sum(weight1 * cost_obs)"
   ]
  },
  {
   "cell_type": "code",
   "execution_count": 77,
   "metadata": {},
   "outputs": [],
   "source": [
    "# 2) all pair data \n",
    "y_hat_all = one_step_model(users_all, items_all)\n",
    "cost_all = none_criterion(y_hat_all, impu_all)\n",
    "loss_all = torch.sum(weight2 * cost_all)"
   ]
  },
  {
   "cell_type": "code",
   "execution_count": 78,
   "metadata": {},
   "outputs": [],
   "source": [
    "# loss: \\hat{L}_{T}(f | \\phi)\n",
    "loss = loss_obs + base_model_args['imputaion_lambda'] * loss_all + base_model_args['weight_decay'] * one_step_model.l2_norm(users_all, items_all)"
   ]
  },
  {
   "cell_type": "code",
   "execution_count": 86,
   "metadata": {},
   "outputs": [],
   "source": [
    "# update parameters of one_step_model\n",
    "one_step_model.zero_grad()\n",
    "grads = torch.autograd.grad(loss, (one_step_model.params()), create_graph=True)\n",
    "one_step_model.update_params(base_model_args['learning_rate'], source_params=grads)"
   ]
  },
  {
   "attachments": {},
   "cell_type": "markdown",
   "metadata": {},
   "source": [
    "### Step 2. Update of $\\phi(\\psi)$"
   ]
  },
  {
   "cell_type": "code",
   "execution_count": 87,
   "metadata": {},
   "outputs": [],
   "source": [
    "# latter hyper_parameter: using uniform set to update hyper_parameters\n",
    "y_hat_l = one_step_model(users_unif, items_unif)\n",
    "loss_l = sum_criterion(y_hat_l, y_unif)"
   ]
  },
  {
   "cell_type": "code",
   "execution_count": 88,
   "metadata": {},
   "outputs": [],
   "source": [
    "# update hyper-parameters\n",
    "weight1_optimizer.zero_grad()\n",
    "weight2_optimizer.zero_grad()\n",
    "imputation_optimizer.zero_grad()\n",
    "\n",
    "loss_l.backward()\n",
    "\n",
    "weight1_optimizer.step()\n",
    "weight2_optimizer.step()\n",
    "imputation_optimizer.step()"
   ]
  },
  {
   "cell_type": "code",
   "execution_count": 91,
   "metadata": {},
   "outputs": [],
   "source": [
    "# use new weights to update parameters (real update)       \n",
    "weight1_model.train()\n",
    "weight1 = weight1_model(users_train, items_train)\n",
    "weight1 = torch.exp(weight1/5)\n",
    "\n",
    "# calculate weight2\n",
    "weight2_model.train()\n",
    "weight2 = weight2_model(users_all, items_all,(train_dense[users_all,items_all]!=0)*1)\n",
    "weight2 = torch.exp(weight2/5) # for stable training\n",
    "\n",
    "# use new imputation to update parameters\n",
    "imputation_model.train()\n",
    "impu_all = torch.tanh(imputation_model((train_dense[users_all,items_all]).long()))"
   ]
  },
  {
   "attachments": {},
   "cell_type": "markdown",
   "metadata": {},
   "source": [
    "### Step 3. Update of $\\theta$"
   ]
  },
  {
   "cell_type": "code",
   "execution_count": null,
   "metadata": {},
   "outputs": [],
   "source": [
    "base_model.train()\n",
    "\n",
    "# all_pair"
   ]
  },
  {
   "cell_type": "code",
   "execution_count": 94,
   "metadata": {},
   "outputs": [],
   "source": [
    "y_hat_all = base_model(users_all, items_all)\n",
    "cost_all = none_criterion(y_hat_all, impu_all)\n",
    "loss_all = torch.sum(cost_all * weight2)\n",
    "# observation\n",
    "y_hat_obs = base_model(users_train, items_train)\n",
    "cost_obs = none_criterion(y_hat_obs, y_train)\n",
    "loss_obs = torch.sum(cost_obs * weight1)\n",
    "loss = loss_obs + base_model_args['imputaion_lambda'] * loss_all + base_model_args['weight_decay'] * base_model.l2_norm(users_all, items_all)\n",
    "\n",
    "base_optimizer.zero_grad()\n",
    "loss.backward()\n",
    "base_optimizer.step()\n",
    "\n",
    "training_loss += loss.item()"
   ]
  },
  {
   "attachments": {},
   "cell_type": "markdown",
   "metadata": {},
   "source": [
    "### Validation"
   ]
  },
  {
   "cell_type": "code",
   "execution_count": 69,
   "metadata": {},
   "outputs": [],
   "source": [
    "base_model.eval()\n",
    "with torch.no_grad():\n",
    "    # training metrics\n",
    "    train_pre_ratings = torch.empty(0).to(device)\n",
    "    train_ratings = torch.empty(0).to(device)\n",
    "    for u_batch_idx, users in enumerate(train_loader.User_loader): \n",
    "        for i_batch_idx, items in enumerate(train_loader.Item_loader): \n",
    "            users_train, items_train, y_train = train_loader.get_batch(users, items, device)\n",
    "            pre_ratings = base_model(users_train, items_train)\n",
    "            train_pre_ratings = torch.cat((train_pre_ratings, pre_ratings))\n",
    "            train_ratings = torch.cat((train_ratings, y_train))\n",
    "\n",
    "    # validation metrics\n",
    "    val_pre_ratings = torch.empty(0).to(device)\n",
    "    val_ratings = torch.empty(0).to(device)\n",
    "    for batch_idx, (users, items, ratings) in enumerate(val_loader):\n",
    "        pre_ratings = base_model(users, items)\n",
    "        val_pre_ratings = torch.cat((val_pre_ratings, pre_ratings))\n",
    "        val_ratings = torch.cat((val_ratings, ratings))\n",
    "\n",
    "train_results = utils.metrics.evaluate(train_pre_ratings, train_ratings, ['MSE'], device)\n",
    "val_results = utils.metrics.evaluate(val_pre_ratings, val_ratings, ['MSE', 'NLL', 'AUC'], device)\n"
   ]
  },
  {
   "attachments": {},
   "cell_type": "markdown",
   "metadata": {},
   "source": [
    "### Full training code"
   ]
  },
  {
   "cell_type": "code",
   "execution_count": null,
   "metadata": {},
   "outputs": [],
   "source": [
    "for epoch in range(early_stopping.max_epochs):\n",
    "    for u_batch_idx, users in enumerate(train_loader.User_loader):\n",
    "        for i_batch_idx, items in enumerate(train_loader.Item_loader):\n",
    "            # observation data in this batch\n",
    "            users_train, items_train, y_train = train_loader.get_batch(users, items, device)"
   ]
  },
  {
   "cell_type": "code",
   "execution_count": null,
   "metadata": {},
   "outputs": [],
   "source": []
  },
  {
   "attachments": {},
   "cell_type": "markdown",
   "metadata": {},
   "source": [
    "## Train & Eval"
   ]
  },
  {
   "cell_type": "code",
   "execution_count": 48,
   "metadata": {},
   "outputs": [],
   "source": [
    "# train_and_eval(train, \n",
    "#               unif_train,\n",
    "#               validation,\n",
    "#               test,\n",
    "#               device, \n",
    "#               base_model_args=base_model_args, \n",
    "#               weight1_model_args=weight1_model_args, \n",
    "#               weight2_model_args=weight2_model_args, \n",
    "#               imputation_model_args=imputation_model_args, \n",
    "#               training_args=training_args)"
   ]
  },
  {
   "cell_type": "code",
   "execution_count": 49,
   "metadata": {},
   "outputs": [
    {
     "data": {
      "text/plain": [
       "tensor([[0., 0., 0.,  ..., 0., 0., 0.],\n",
       "        [0., 0., 0.,  ..., 0., 0., 0.],\n",
       "        [0., 0., 0.,  ..., 0., 0., 0.],\n",
       "        ...,\n",
       "        [0., 0., 0.,  ..., 0., 0., 0.],\n",
       "        [0., 0., 0.,  ..., 0., 0., 0.],\n",
       "        [0., 0., 0.,  ..., 0., 0., 0.]])"
      ]
     },
     "execution_count": 49,
     "metadata": {},
     "output_type": "execute_result"
    }
   ],
   "source": [
    "# transform sparse to dense matrix\n",
    "train_data = train\n",
    "train_dense = train_data.to_dense()\n",
    "train_dense"
   ]
  },
  {
   "cell_type": "code",
   "execution_count": 50,
   "metadata": {},
   "outputs": [],
   "source": [
    "unif_train_data = unif_train\n",
    "users_unif = unif_train_data._indices()[0]\n",
    "items_unif = unif_train_data._indices()[1]\n",
    "y_unif = unif_train_data._values()"
   ]
  },
  {
   "cell_type": "code",
   "execution_count": 51,
   "metadata": {},
   "outputs": [],
   "source": [
    "# build data_loader. (block matrix data loader)\n",
    "\n",
    "train_loader = utils.data_loader.Block(train_data,\n",
    "                                       u_batch_size=training_args['block_batch'][0],\n",
    "                                       i_batch_size=training_args['block_batch'][1],\n",
    "                                       device=device)"
   ]
  },
  {
   "cell_type": "code",
   "execution_count": 52,
   "metadata": {},
   "outputs": [],
   "source": [
    "val_data, test_data = validation, test\n",
    "val_loader = utils.data_loader.DataLoader(utils.data_loader.Interactions(val_data), batch_size=training_args['batch_size'], shuffle=False, num_workers=0)\n",
    "test_loader = utils.data_loader.DataLoader(utils.data_loader.Interactions(test_data), batch_size=training_args['batch_size'], shuffle=False, num_workers=0)"
   ]
  },
  {
   "cell_type": "code",
   "execution_count": 53,
   "metadata": {},
   "outputs": [
    {
     "name": "stdout",
     "output_type": "stream",
     "text": [
      "15400 1000\n"
     ]
    }
   ],
   "source": [
    "# data shape\n",
    "n_user, n_item = train_data.shape\n",
    "print(n_user, n_item)"
   ]
  },
  {
   "attachments": {},
   "cell_type": "markdown",
   "metadata": {},
   "source": [
    "## Models"
   ]
  },
  {
   "cell_type": "code",
   "execution_count": 54,
   "metadata": {},
   "outputs": [],
   "source": [
    "class MF(nn.Module):\n",
    "  \"\"\"\n",
    "  Base module for matrix factoriazation\n",
    "  \"\"\"\n",
    "  def __init__(self, n_user, n_item, dim=40, dropout=0, init=None):\n",
    "    super().__init__()\n",
    "    \n",
    "    self.user_latent = nn.Embedding(n_user, dim)\n",
    "    self.item_latent = nn.Embedding(n_item, dim)\n",
    "    \n",
    "    self.user_bias = nn.Embedding(n_user, 1)\n",
    "    self.item_bias = nn.Embedding(n_item, 1)\n",
    "    \n",
    "    self.dropout_p = dropout\n",
    "    self.dropout = nn.Dropout(p=self.dropout_p)\n",
    "    if not init:\n",
    "      self.init_embedding(init)\n",
    "    else:\n",
    "      self.init_embedding(0)\n",
    "    \n",
    "  def init_embedding(self, init):\n",
    "    nn.init.kaiming_normal_(self.user_latent.weight.data, mode='fan_out', a=init)\n",
    "    nn.init.kaiming_normal_(self.item_latent.weight.data, mode='fan_out', a=init)\n",
    "    nn.init.kaiming_normal_(self.user_bias.weight.data, mode='fan_out', a=init)\n",
    "    nn.init.kaiming_normal_(self.item_bias.weight.data, mode='fan_out', a=init)\n",
    "    \n",
    "  def forward(self, users, items):\n",
    "    u_latent = self.dropout(self.user_latent(users))\n",
    "    i_latent = self.dropout(self.item_latent(items))\n",
    "    \n",
    "    u_bias = self.user_bias(users)\n",
    "    i_bias = self.user_bias(items)\n",
    "    \n",
    "    preds = torch.sum(u_latent * i_latent, dim=1, keepdim=True) + u_bias + i_bias\n",
    "    \n",
    "    return preds.squeeze(dim=-1)\n",
    "  \n",
    "  def l2_norm(self, users, items):\n",
    "    users = torch.unique(users)\n",
    "    items = torch.unique(items)\n",
    "    \n",
    "    l2_loss = (torch.sum(self.user_latent(users)**2) + torch.sum(self.item_latent(items)**2)) / 2\n",
    "    return l2_loss\n"
   ]
  },
  {
   "cell_type": "code",
   "execution_count": 55,
   "metadata": {},
   "outputs": [],
   "source": [
    "from model import MetaModule, MetaEmbed\n",
    "class MetaEmbed(MetaModule):\n",
    "  \"\"\"\n",
    "  Base module for matrix factorization\n",
    "  \"\"\"\n",
    "  def __init__(self, dim_1, dim_2):\n",
    "    super().__init__()\n",
    "    ignore = nn.Embedding(dim_1, dim_2)\n",
    "    \n",
    "    self.register_buffer('weight', to_var(ignore.weight.data, requires_grad=True))\n",
    "    self.register_buffer('bias', None)\n",
    "    \n",
    "  def forward(self):\n",
    "    return self.weight\n",
    "  \n",
    "  def named_leaves(self):\n",
    "    return [('weight', self.weight), ('bias', self.bias)]"
   ]
  },
  {
   "cell_type": "code",
   "execution_count": 56,
   "metadata": {},
   "outputs": [],
   "source": [
    "class MetaMF(MetaModule):\n",
    "    \"\"\"\n",
    "    Base module for matrix factorization.\n",
    "    \"\"\"\n",
    "    def __init__(self, n_user, n_item, dim=40, dropout=0, init = None):\n",
    "        super().__init__()\n",
    "        \n",
    "        self.user_latent = MetaEmbed(n_user, dim)\n",
    "        self.item_latent = MetaEmbed(n_item, dim)\n",
    "        self.user_bias = MetaEmbed(n_user, 1)\n",
    "        self.item_bias = MetaEmbed(n_item, 1)\n",
    "        self.dropout_p = dropout\n",
    "        self.dropout = nn.Dropout(p=self.dropout_p)\n",
    "        if init is not None:\n",
    "            self.init_embedding(init)\n",
    "        else: \n",
    "            self.init_embedding(0)\n",
    "        \n",
    "    def init_embedding(self, init): \n",
    "\n",
    "        nn.init.kaiming_normal_(self.user_latent.weight, mode='fan_out', a = init)\n",
    "        nn.init.kaiming_normal_(self.item_latent.weight, mode='fan_out', a = init)\n",
    "        nn.init.kaiming_normal_(self.user_bias.weight, mode='fan_out', a = init)\n",
    "        nn.init.kaiming_normal_(self.item_bias.weight, mode='fan_out', a = init)\n",
    "          \n",
    "    def forward(self, users, items):\n",
    "        u_latent = self.dropout(self.user_latent.weight[users])\n",
    "        i_latent = self.dropout(self.item_latent.weight[items])\n",
    "        u_bias = self.user_bias.weight[users]\n",
    "        i_bias = self.item_bias.weight[items]\n",
    "\n",
    "        preds = torch.sum(u_latent * i_latent, dim=1, keepdim=True) + u_bias + i_bias\n",
    "        return preds.squeeze(dim=-1)\n",
    "\n",
    "    def l2_norm(self, users, items, unique = True): \n",
    "\n",
    "        users = torch.unique(users)\n",
    "        items = torch.unique(items)\n",
    "        \n",
    "        l2_loss = (torch.sum(self.user_latent.weight[users]**2) + torch.sum(self.item_latent.weight[items]**2)) / 2\n",
    "        return l2_loss"
   ]
  },
  {
   "cell_type": "code",
   "execution_count": 57,
   "metadata": {},
   "outputs": [],
   "source": [
    "# import torch\n",
    "# import torch.nn as nn\n",
    "\n",
    "# # Define the embedding layer\n",
    "# embedding_dim = 10\n",
    "# vocab_size = 100\n",
    "# embedding_layer = nn.Embedding(vocab_size, embedding_dim)\n",
    "\n",
    "# # Example input indices\n",
    "# indices = torch.tensor(list(range(4)))\n",
    "\n",
    "# # Apply the embedding layer\n",
    "# embedded_output = embedding_layer(indices)\n",
    "\n",
    "# print(embedded_output.shape)"
   ]
  },
  {
   "cell_type": "code",
   "execution_count": 58,
   "metadata": {},
   "outputs": [],
   "source": [
    "base_model = MetaMF(n_user, n_item, dim=base_model_args['emb_dim'], dropout=0).to(device)\n",
    "base_optimizer = torch.optim.SGD(base_model.params(), lr=base_model_args['learning_rate'], weight_decay=0) # todo: other optimizer SGD"
   ]
  },
  {
   "attachments": {},
   "cell_type": "markdown",
   "metadata": {},
   "source": [
    "register_buffer 로 layer를 등록하면 어떤 특징이 있는가?\n",
    "\n",
    "1. optimizer가 업데이트하지 않는다.\n",
    "\n",
    "2. 그러나 값은 존재한다(하나의 layer로써 작용한다고 보면 된다.)\n",
    "\n",
    "3. state_dict()로 확인이 가능하다.\n",
    "\n",
    "4. GPU연산이 가능하다.\n",
    "\n",
    " \n",
    "\n",
    "따라서 네트워크를 구성함에 있어서 네트워크를 end2end로 학습시키고 싶은데 중간에 업데이트를 하지않는 일반 layer를 넣고 싶을 때 사용할 수 있다."
   ]
  },
  {
   "cell_type": "code",
   "execution_count": 59,
   "metadata": {},
   "outputs": [],
   "source": [
    "def to_var(x, requires_grad=True):\n",
    "  x = x.cuda() if torch.cuda.is_available() else x\n",
    "  return Variable(x, requires_grad=requires_grad) # 현재는 모든 tensor에서 required_grad 옵션을 통해 gradient를 추적할 수 있기 때문에 따로 위와 같이 Variable로 감싸줄 필요가 없다. (현재는 쓸 필요 없음)\n"
   ]
  },
  {
   "cell_type": "code",
   "execution_count": 60,
   "metadata": {},
   "outputs": [],
   "source": [
    "class OneLinear(nn.Module):\n",
    "  \"\"\"\n",
    "  linear model: r\n",
    "  \"\"\"\n",
    "  def __init__(self, n):\n",
    "    super().__init__()\n",
    "\n",
    "    self.bias = nn.Embedding(n,1)\n",
    "    self.init_embedding()\n",
    "\n",
    "  def init_embedding(self):\n",
    "    self.bias.weight.data *= 0.01\n",
    "\n",
    "  def forward(self, values):\n",
    "    d_bias = self.bias(values)\n",
    "    return d_bias.squeeze()\n"
   ]
  },
  {
   "cell_type": "code",
   "execution_count": 61,
   "metadata": {},
   "outputs": [],
   "source": [
    "class TwoLinear(nn.Module):\n",
    "  def __init__(self, n_user, n_item):\n",
    "    super().__init__()\n",
    "\n",
    "    self.user_bias = nn.Embedding(n_user, 1)\n",
    "    self.item_bias = nn.Embedding(n_item, 1)\n",
    "\n",
    "    self.init_embedding(0)\n",
    "  \n",
    "  def init_embedding(self, init):\n",
    "    nn.init.kaiming_normal_(self.user_bias.weight, mode='fan_out', a=init)\n",
    "    nn.init.kaiming_normal_(self.item_bias.weight, mode='fan_out', a=init)\n",
    "\n",
    "  def forward(self, users, items):\n",
    "    u_bias = self.user_bias(users)\n",
    "    i_bias = self.item_bias(items)\n",
    "    preds = u_bias + i_bias\n",
    "    \n",
    "    return preds.squeeze()"
   ]
  },
  {
   "cell_type": "code",
   "execution_count": 62,
   "metadata": {},
   "outputs": [],
   "source": [
    "class ThreeLinear(nn.Module):\n",
    "  \"\"\"\n",
    "  linear model: u + i + r / o\n",
    "  \"\"\"\n",
    "  def __init__(self, n_user, n_item, n):\n",
    "    super().__init__()\n",
    "    \n",
    "    self.user_bias = nn.Embedding(n_user, 1)\n",
    "    self.item_bias = nn.Embedding(n_item, 1)\n",
    "    self.data_bias= nn.Embedding(n, 1)\n",
    "    self.init_embedding(0)\n",
    "      \n",
    "  def init_embedding(self, init): \n",
    "    nn.init.kaiming_normal_(self.user_bias.weight, mode='fan_out', a = init)\n",
    "    nn.init.kaiming_normal_(self.item_bias.weight, mode='fan_out', a = init)\n",
    "    nn.init.kaiming_normal_(self.data_bias.weight, mode='fan_out', a = init)\n",
    "    self.data_bias.weight.data *= 0.001\n",
    "\n",
    "  def forward(self, users, items, values):\n",
    "\n",
    "    u_bias = self.user_bias(users)\n",
    "    i_bias = self.item_bias(items)\n",
    "    d_bias = self.data_bias(values)\n",
    "\n",
    "    preds = u_bias + i_bias + d_bias\n",
    "    return preds.squeeze()"
   ]
  },
  {
   "cell_type": "code",
   "execution_count": 63,
   "metadata": {},
   "outputs": [],
   "source": [
    "weight1_model = TwoLinear(n_user, n_item).to(device)\n",
    "weight1_optimizer = torch.optim.Adam(weight1_model.parameters(), \n",
    "                                     lr=base_model_args['learning_rate'],\n",
    "                                     weight_decay=0)"
   ]
  },
  {
   "cell_type": "code",
   "execution_count": 64,
   "metadata": {},
   "outputs": [],
   "source": [
    "weight2_model = ThreeLinear(n_user, n_item, 2).to(device)\n",
    "weight2_optimizer = torch.optim.Adam(weight2_model.parameters(), \n",
    "                                     lr=weight2_model_args['learning_rate'],\n",
    "                                     weight_decay=weight2_model_args['weight_decay'])"
   ]
  },
  {
   "cell_type": "code",
   "execution_count": 65,
   "metadata": {},
   "outputs": [],
   "source": [
    "imputation_model = OneLinear(2).to(device)\n",
    "imputation_optimizer = torch.optim.Adam(imputation_model.parameters(),\n",
    "                                        lr=imputation_model_args['learning_rate'],\n",
    "                                        weight_decay=imputation_model_args['weight_decay'])"
   ]
  },
  {
   "cell_type": "code",
   "execution_count": 66,
   "metadata": {},
   "outputs": [],
   "source": [
    "# loss criterion\n",
    "sum_criterion = nn.MSELoss(reduction='sum')\n",
    "none_criterion = nn.MSELoss(reduction='none')"
   ]
  },
  {
   "attachments": {},
   "cell_type": "markdown",
   "metadata": {},
   "source": [
    "## Training"
   ]
  },
  {
   "cell_type": "code",
   "execution_count": 67,
   "metadata": {},
   "outputs": [
    {
     "data": {
      "text/plain": [
       "torch.Size([15400, 1000])"
      ]
     },
     "execution_count": 67,
     "metadata": {},
     "output_type": "execute_result"
    }
   ],
   "source": [
    "train_dense.shape"
   ]
  },
  {
   "cell_type": "code",
   "execution_count": 68,
   "metadata": {},
   "outputs": [],
   "source": [
    "stopping_args = Stop_args(patience=training_args['patience'], max_epochs=training_args['epochs'])\n",
    "early_stopping = EarlyStopping(base_model, **stopping_args)"
   ]
  },
  {
   "cell_type": "code",
   "execution_count": 76,
   "metadata": {},
   "outputs": [],
   "source": [
    "from train_implicit import train_and_eval\n",
    "\n",
    "# setting that works well\n",
    "train_and_eval(train, \n",
    "               unif_train, \n",
    "               validation, \n",
    "               test,\n",
    "               device,\n",
    "               base_model_args = base_model_args, \n",
    "               weight1_model_args = weight1_model_args,\n",
    "               weight2_model_args = weight2_model_args,\n",
    "               imputation_model_args = imputation_model_args, \n",
    "               training_args = training_args)"
   ]
  }
 ],
 "metadata": {
  "kernelspec": {
   "display_name": "Python 3",
   "language": "python",
   "name": "python3"
  },
  "language_info": {
   "codemirror_mode": {
    "name": "ipython",
    "version": 3
   },
   "file_extension": ".py",
   "mimetype": "text/x-python",
   "name": "python",
   "nbconvert_exporter": "python",
   "pygments_lexer": "ipython3",
   "version": "3.10.6"
  },
  "orig_nbformat": 4
 },
 "nbformat": 4,
 "nbformat_minor": 2
}
