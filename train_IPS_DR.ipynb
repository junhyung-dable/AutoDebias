{
 "cells": [
  {
   "cell_type": "code",
   "execution_count": 1,
   "metadata": {},
   "outputs": [],
   "source": [
    "import os\n",
    "import numpy as np\n",
    "import random\n",
    "\n",
    "import torch\n",
    "import torch.nn as nn\n",
    "\n",
    "from model import *\n",
    "\n",
    "import arguments"
   ]
  },
  {
   "cell_type": "code",
   "execution_count": 3,
   "metadata": {},
   "outputs": [
    {
     "name": "stdout",
     "output_type": "stream",
     "text": [
      "Defaulting to user installation because normal site-packages is not writeable\n",
      "Collecting cppimport\n",
      "  Downloading cppimport-22.8.2.tar.gz (26 kB)\n",
      "  Installing build dependencies ... \u001b[?25ldone\n",
      "\u001b[?25h  Getting requirements to build wheel ... \u001b[?25ldone\n",
      "\u001b[?25h  Preparing metadata (pyproject.toml) ... \u001b[?25ldone\n",
      "\u001b[?25hRequirement already satisfied: mako in /home/dable/.local/lib/python3.10/site-packages (from cppimport) (1.2.4)\n",
      "Collecting pybind11 (from cppimport)\n",
      "  Downloading pybind11-2.11.1-py3-none-any.whl (227 kB)\n",
      "\u001b[2K     \u001b[90m━━━━━━━━━━━━━━━━━━━━━━━━━━━━━━━━━━━━━━━\u001b[0m \u001b[32m227.7/227.7 kB\u001b[0m \u001b[31m6.2 MB/s\u001b[0m eta \u001b[36m0:00:00\u001b[0m00:01\u001b[0m\n",
      "\u001b[?25hRequirement already satisfied: filelock in /home/dable/.local/lib/python3.10/site-packages (from cppimport) (3.12.0)\n",
      "Requirement already satisfied: MarkupSafe>=0.9.2 in /home/dable/.local/lib/python3.10/site-packages (from mako->cppimport) (2.1.2)\n",
      "Building wheels for collected packages: cppimport\n",
      "  Building wheel for cppimport (pyproject.toml) ... \u001b[?25ldone\n",
      "\u001b[?25h  Created wheel for cppimport: filename=cppimport-22.8.2-py3-none-any.whl size=17499 sha256=05a7f084c0884377aecc26befa281c475d0cc136a10e65fcf1644c06c41fce06\n",
      "  Stored in directory: /home/dable/.cache/pip/wheels/38/0d/cd/d3a3135529beaf8c8fde3957e56ff89c25cd14ab18358bd724\n",
      "Successfully built cppimport\n",
      "Installing collected packages: pybind11, cppimport\n",
      "Successfully installed cppimport-22.8.2 pybind11-2.11.1\n",
      "\n",
      "\u001b[1m[\u001b[0m\u001b[34;49mnotice\u001b[0m\u001b[1;39;49m]\u001b[0m\u001b[39;49m A new release of pip is available: \u001b[0m\u001b[31;49m23.1.2\u001b[0m\u001b[39;49m -> \u001b[0m\u001b[32;49m23.2.1\u001b[0m\n",
      "\u001b[1m[\u001b[0m\u001b[34;49mnotice\u001b[0m\u001b[1;39;49m]\u001b[0m\u001b[39;49m To update, run: \u001b[0m\u001b[32;49mpython3.10 -m pip install --upgrade pip\u001b[0m\n"
     ]
    }
   ],
   "source": [
    "# !pip install cppimport"
   ]
  },
  {
   "cell_type": "code",
   "execution_count": 4,
   "metadata": {},
   "outputs": [],
   "source": [
    "import utils.load_dataset\n",
    "import utils.data_loader\n",
    "import utils.metrics\n",
    "from utils.early_stop import EarlyStopping, Stop_args"
   ]
  },
  {
   "cell_type": "code",
   "execution_count": 5,
   "metadata": {},
   "outputs": [],
   "source": [
    "from utils.metrics import auc"
   ]
  },
  {
   "cell_type": "code",
   "execution_count": 6,
   "metadata": {},
   "outputs": [],
   "source": [
    "dataset = 'yahooR3'\n",
    "base_model_args = {'emb_dim': 10, 'learning_rate': 0.01, 'imputaion_lambda': 0.01, 'weight_decay': 1}\n",
    "weight1_model_args ={'learning_rate': 0.1, 'weight_decay': 0.001}\n",
    "weight2_model_args =  {'learning_rate': 1e-3, 'weight_decay': 1e-2}\n",
    "imputation_model_args = {'learning_rate': 1e-1, 'weight_decay': 1e-4}\n",
    "training_args =  {'batch_size': 1024, 'epochs': 100, 'patience': 20, 'block_batch': [1000, 100]}\n",
    "uniform_ratio = 0.05\n",
    "seed = 0"
   ]
  },
  {
   "cell_type": "code",
   "execution_count": 7,
   "metadata": {},
   "outputs": [],
   "source": [
    "from train_implicit import setup_seed\n",
    "setup_seed(seed)"
   ]
  },
  {
   "cell_type": "code",
   "execution_count": 8,
   "metadata": {},
   "outputs": [
    {
     "name": "stdout",
     "output_type": "stream",
     "text": [
      "cuda\n"
     ]
    }
   ],
   "source": [
    "device = torch.device('cuda' if torch.cuda.is_available() else 'cpu')\n",
    "print(device)\n"
   ]
  },
  {
   "attachments": {},
   "cell_type": "markdown",
   "metadata": {},
   "source": [
    "## Load Dataset"
   ]
  },
  {
   "attachments": {},
   "cell_type": "markdown",
   "metadata": {},
   "source": [
    "### Indices: \n",
    "`When working with sparse tensors, the indices refer to the positions of non-zero elements in the tensor. It is a tensor of shape (N, D), where N represents the number of non-zero elements, and D corresponds to the number of dimensions or axes of the tensor. Each row in the indices tensor represents the coordinates of a non-zero element in the sparse tensor.`\n",
    "\n",
    "### Value:\n",
    "`The value refers to the actual non-zero values associated with the indices in a sparse tensor. It is a tensor of shape (N,), where N is the number of non-zero elements. Each element in the value tensor corresponds to the value of a non-zero element in the sparse tensor.`\n",
    "\n",
    "### nnz:\n",
    "`nnz stands for \"number of non-zero elements.\" It represents the count of non-zero elements present in a sparse tensor. In other words, it denotes the length of the indices and value tensors.`\n",
    "\n",
    "### Layout:\n",
    "`The layout of a sparse tensor defines how the indices and values are stored in memory. Torch supports different sparse tensor layouts, such as \"torch.sparse_coo\", \"torch.sparse_csr\", and \"torch.sparse_csc\". Each layout has its own advantages and is suited for specific operations and computations. For example, the \"torch.sparse_coo\" layout stores the indices and values as separate tensors, while the \"torch.sparse_csr\" and \"torch.sparse_csc\" layouts store them in a compressed format.`"
   ]
  },
  {
   "cell_type": "code",
   "execution_count": 51,
   "metadata": {},
   "outputs": [],
   "source": [
    "dataset='yahooR3'\n",
    "training_args = {'batch_size': 1024,\n",
    "                 'epochs': 500, \n",
    "                 'patience': 60, \n",
    "                 'block_batch': [6000, 500]}\n",
    "\n",
    "base_model_args = {'emb_dim': 10, \n",
    "                   'learning_rate': 0.0001, \n",
    "                   'imputaion_lambda': 1, \n",
    "                   'weight_decay': 1}\n",
    "weight1_model_args = {'learning_rate': 0.01, 'weight_decay': 0.01}\n",
    "weight2_model_args = {'learning_rate': 1e-3, 'weight_decay': 1e-2}\n",
    "imputation_model_args = {'emb_dim': 10, 'learning_rate': 1e-1, 'weight_decay': 1e-4}"
   ]
  },
  {
   "cell_type": "code",
   "execution_count": 16,
   "metadata": {},
   "outputs": [],
   "source": [
    "# args = arguments.parse_args()\n",
    "# para(args)\n",
    "setup_seed(seed)\n",
    "device = torch.device('cuda' if torch.cuda.is_available() else 'cpu')\n"
   ]
  },
  {
   "cell_type": "code",
   "execution_count": 17,
   "metadata": {},
   "outputs": [],
   "source": [
    "train, unif_train, validation, test = utils.load_dataset.load_dataset(data_name=dataset, type = 'implicit', seed = seed, device=device)\n"
   ]
  },
  {
   "cell_type": "code",
   "execution_count": 18,
   "metadata": {},
   "outputs": [
    {
     "data": {
      "text/plain": [
       "(torch.Size([15400, 1000]),\n",
       " torch.Size([15400, 1000]),\n",
       " torch.Size([15400, 1000]),\n",
       " torch.Size([15400, 1000]))"
      ]
     },
     "execution_count": 18,
     "metadata": {},
     "output_type": "execute_result"
    }
   ],
   "source": [
    "train.shape, unif_train.shape, validation.shape, test.shape"
   ]
  },
  {
   "cell_type": "code",
   "execution_count": 33,
   "metadata": {},
   "outputs": [
    {
     "data": {
      "text/plain": [
       "tensor(indices=tensor([[    0,     0,     0,  ..., 15399, 15399, 15399],\n",
       "                       [   13,   152,   169,  ...,   563,   636,   948]]),\n",
       "       values=tensor([1., 1., 1.,  ..., 1., 1., 1.]),\n",
       "       device='cuda:0', size=(15400, 1000), nnz=125077, layout=torch.sparse_coo)"
      ]
     },
     "execution_count": 33,
     "metadata": {},
     "output_type": "execute_result"
    }
   ],
   "source": [
    "train"
   ]
  },
  {
   "cell_type": "code",
   "execution_count": 66,
   "metadata": {},
   "outputs": [
    {
     "data": {
      "text/plain": [
       "(torch.Size([2, 125077]), torch.Size([125077]), 125077)"
      ]
     },
     "execution_count": 66,
     "metadata": {},
     "output_type": "execute_result"
    }
   ],
   "source": [
    "train._indices().shape, train._values().shape, train._nnz()"
   ]
  },
  {
   "cell_type": "code",
   "execution_count": 19,
   "metadata": {},
   "outputs": [],
   "source": [
    "from train_implicit import train_and_eval\n",
    "\n",
    "# train_and_eval(train, \n",
    "#                unif_train, \n",
    "#                validation, \n",
    "#                test,\n",
    "#                device,\n",
    "#                base_model_args = base_model_args, \n",
    "#                weight1_model_args = weight1_model_args,\n",
    "#                weight2_model_args = weight2_model_args,\n",
    "#                imputation_model_args = imputation_model_args, \n",
    "#                training_args = training_args)"
   ]
  },
  {
   "attachments": {},
   "cell_type": "markdown",
   "metadata": {},
   "source": [
    "## 1. Baseline Model - DR"
   ]
  },
  {
   "cell_type": "code",
   "execution_count": 20,
   "metadata": {},
   "outputs": [],
   "source": [
    "train_data, unif_train_data, val_data, test_data = train, unif_train, validation, test"
   ]
  },
  {
   "cell_type": "code",
   "execution_count": 22,
   "metadata": {},
   "outputs": [],
   "source": [
    "train_loader = utils.data_loader.Block(train_data, u_batch_size=training_args['block_batch'][0], i_batch_size=training_args['block_batch'][1], device=device)\n",
    "val_loader = utils.data_loader.DataLoader(utils.data_loader.Interactions(val_data), batch_size=training_args['batch_size'], shuffle=False, num_workers=0)\n",
    "test_loader = utils.data_loader.DataLoader(utils.data_loader.Interactions(test_data), batch_size=training_args['batch_size'], shuffle=False, num_workers=0)"
   ]
  },
  {
   "cell_type": "code",
   "execution_count": 23,
   "metadata": {},
   "outputs": [
    {
     "data": {
      "text/plain": [
       "utils.data_loader.Block"
      ]
     },
     "execution_count": 23,
     "metadata": {},
     "output_type": "execute_result"
    }
   ],
   "source": [
    "type(train_loader)"
   ]
  },
  {
   "cell_type": "code",
   "execution_count": 67,
   "metadata": {},
   "outputs": [
    {
     "name": "stdout",
     "output_type": "stream",
     "text": [
      "torch.Size([6000])\n"
     ]
    }
   ],
   "source": [
    "for u_batch_idx, users in enumerate(train_loader.User_loader):\n",
    "  print(users.shape)\n",
    "  break"
   ]
  },
  {
   "attachments": {},
   "cell_type": "markdown",
   "metadata": {},
   "source": [
    "### Naive Bayes propensity estimator & Functions used in building model"
   ]
  },
  {
   "cell_type": "code",
   "execution_count": 38,
   "metadata": {},
   "outputs": [
    {
     "data": {
      "text/plain": [
       "0.008121883116883118"
      ]
     },
     "execution_count": 38,
     "metadata": {},
     "output_type": "execute_result"
    }
   ],
   "source": [
    "P_Oeq1 = train_data._nnz() / (train.size()[0] * train.size()[1])\n",
    "P_Oeq1 # ratio of non-zero"
   ]
  },
  {
   "cell_type": "code",
   "execution_count": 39,
   "metadata": {},
   "outputs": [
    {
     "data": {
      "text/plain": [
       "125077"
      ]
     },
     "execution_count": 39,
     "metadata": {},
     "output_type": "execute_result"
    }
   ],
   "source": [
    "train_data._nnz() # number of non-zero elements"
   ]
  },
  {
   "cell_type": "code",
   "execution_count": 40,
   "metadata": {},
   "outputs": [
    {
     "data": {
      "text/plain": [
       "tensor([1.], device='cuda:0')"
      ]
     },
     "execution_count": 40,
     "metadata": {},
     "output_type": "execute_result"
    }
   ],
   "source": [
    "y_unique = torch.unique(train_data._values())\n",
    "y_unique"
   ]
  },
  {
   "cell_type": "code",
   "execution_count": 41,
   "metadata": {},
   "outputs": [
    {
     "name": "stdout",
     "output_type": "stream",
     "text": [
      "tensor([0.], device='cuda:0') tensor([0.], device='cuda:0')\n"
     ]
    }
   ],
   "source": [
    "P_y_givenO = torch.zeros(y_unique.shape).to(device)\n",
    "P_y = torch.zeros(y_unique.shape).to(device)\n",
    "print(P_y_givenO, P_y)"
   ]
  },
  {
   "cell_type": "code",
   "execution_count": 44,
   "metadata": {},
   "outputs": [],
   "source": [
    "for i in range(len(y_unique)): \n",
    "    P_y_givenO[i] = torch.sum(train._values() == y_unique[i]) / torch.sum(torch.ones(train._values().shape).to(device))\n",
    "    P_y[i] = torch.sum(unif_train_data._values() == y_unique[i]) / torch.sum(torch.ones(unif_train_data._values().shape).to(device))\n",
    "\n",
    "Propensity = P_y_givenO / P_y * P_Oeq1"
   ]
  },
  {
   "cell_type": "code",
   "execution_count": 46,
   "metadata": {},
   "outputs": [
    {
     "data": {
      "text/plain": [
       "tensor([0.0949], device='cuda:0')"
      ]
     },
     "execution_count": 46,
     "metadata": {},
     "output_type": "execute_result"
    }
   ],
   "source": [
    "Propensity"
   ]
  },
  {
   "cell_type": "code",
   "execution_count": 47,
   "metadata": {},
   "outputs": [
    {
     "data": {
      "text/plain": [
       "tensor([10.5340], device='cuda:0')"
      ]
     },
     "execution_count": 47,
     "metadata": {},
     "output_type": "execute_result"
    }
   ],
   "source": [
    "InvP = torch.reciprocal(Propensity)\n",
    "InvP"
   ]
  },
  {
   "cell_type": "code",
   "execution_count": 46,
   "metadata": {},
   "outputs": [
    {
     "name": "stdout",
     "output_type": "stream",
     "text": [
      "15400000 125077\n"
     ]
    }
   ],
   "source": [
    "# number of total and non-zero elements in the tensor\n",
    "print(train.coalesce().numel(), train.coalesce()._nnz())"
   ]
  },
  {
   "attachments": {},
   "cell_type": "markdown",
   "metadata": {},
   "source": [
    "### Train start"
   ]
  },
  {
   "cell_type": "code",
   "execution_count": 48,
   "metadata": {},
   "outputs": [
    {
     "name": "stdout",
     "output_type": "stream",
     "text": [
      "15400 1000\n"
     ]
    }
   ],
   "source": [
    "n_user, n_item = train_data.shape\n",
    "print(n_user, n_item)"
   ]
  },
  {
   "cell_type": "code",
   "execution_count": 49,
   "metadata": {},
   "outputs": [],
   "source": [
    "base_model = MF(n_user, n_item, dim=base_model_args['emb_dim'], dropout=0).to(device)\n",
    "base_optimizer = torch.optim.SGD(base_model.parameters(), lr=base_model_args['learning_rate'],  weight_decay=0)"
   ]
  },
  {
   "cell_type": "code",
   "execution_count": 52,
   "metadata": {},
   "outputs": [],
   "source": [
    "imputation_model = MF(n_user, n_item, dim=imputation_model_args['emb_dim'], dropout=0).to(device)\n",
    "imputation_optimizer = torch.optim.SGD(imputation_model.parameters(), lr=imputation_model_args['learning_rate'], weight_decay=0)"
   ]
  },
  {
   "cell_type": "code",
   "execution_count": 104,
   "metadata": {},
   "outputs": [],
   "source": [
    "# Loss criterion\n",
    "none_criterion = nn.MSELoss(reduction='none')\n",
    "sum_criterion = nn.MSELoss(reduction='sum')"
   ]
  },
  {
   "cell_type": "code",
   "execution_count": 54,
   "metadata": {},
   "outputs": [],
   "source": [
    "# Early stopping\n",
    "stopping_args = Stop_args(patience=training_args['patience'], max_epochs=training_args['epochs'])\n",
    "early_stopping = EarlyStopping(base_model, **stopping_args)"
   ]
  },
  {
   "cell_type": "code",
   "execution_count": 80,
   "metadata": {},
   "outputs": [],
   "source": [
    "users, items = next(iter(train_loader.User_loader)), next(iter(train_loader.Item_loader))"
   ]
  },
  {
   "cell_type": "code",
   "execution_count": 89,
   "metadata": {},
   "outputs": [
    {
     "name": "stdout",
     "output_type": "stream",
     "text": [
      "tensor([  834,  5411, 14072,  ..., 13086,  2660,  1126], device='cuda:0')\n"
     ]
    }
   ],
   "source": [
    "print(users) # dim: 6000"
   ]
  },
  {
   "cell_type": "code",
   "execution_count": 82,
   "metadata": {},
   "outputs": [
    {
     "name": "stdout",
     "output_type": "stream",
     "text": [
      "tensor([118, 531, 702, 489, 266, 221, 428, 738, 768, 136,  43, 217,  72,  24,\n",
      "        123, 639, 558, 324, 560, 933, 829, 206, 274,  45, 389, 815, 632, 660,\n",
      "        941, 200,  12, 239, 830, 855, 251,  51, 496, 485, 803, 762, 513, 947,\n",
      "        969, 108, 466, 767, 688,  86, 986, 901, 848,  78, 763, 238,  38, 593,\n",
      "        480, 538, 843, 349,  53, 938, 521, 409,  71,  19, 550, 888, 605, 935,\n",
      "        852, 802, 407, 840, 920, 533, 116, 371, 326, 696, 783, 147, 429, 784,\n",
      "        149,  40,  62,  17, 602, 177, 474, 786, 915, 872, 670, 163, 443, 215,\n",
      "        205, 704, 346, 561, 191, 773,  13, 749, 892, 877, 173, 328, 765,  73,\n",
      "        470, 823, 808, 778, 425, 599, 449, 383, 874, 922, 822, 949, 397, 824,\n",
      "        582, 931, 107, 247, 897, 614, 904, 995, 755, 800, 942, 788,  95, 168,\n",
      "        501,  52, 601, 336, 741, 894, 707, 456, 388, 504, 871, 146, 684,  58,\n",
      "        135, 844, 928, 179, 955, 950, 629, 566, 754,  57, 211, 451, 340, 699,\n",
      "        333, 774, 961, 325,  79, 372, 276, 732,  90,  82, 780, 812, 853, 304,\n",
      "        394, 641, 978,  10, 264,  83, 170, 997, 934, 143, 988, 103, 833, 612,\n",
      "        585, 713, 327, 929, 742, 748,  76, 267, 858, 716, 826, 693, 284, 498,\n",
      "         35, 835,  65, 196, 989, 444, 219, 557, 544, 342, 344, 495, 225, 619,\n",
      "        797, 751, 837, 728, 126, 252, 366, 548, 957, 285, 711, 218, 260, 187,\n",
      "        275, 836, 411, 987, 705, 380, 269, 316, 216, 114, 563, 464, 794, 499,\n",
      "        393, 359, 420, 434, 461, 951, 261, 370, 568,  26, 875, 184, 130,   0,\n",
      "        618, 903, 998, 896, 512, 747, 542, 523, 172, 520, 719, 220, 679, 245,\n",
      "        967,  15,  84, 873, 594, 828, 490, 816, 819, 856, 337, 362,  69, 296,\n",
      "        963, 616, 683, 319, 315, 958, 737, 592, 228,  27, 735, 329, 889, 781,\n",
      "        529, 863, 363, 912, 379, 139, 384, 640, 202,  32, 666, 310, 620, 476,\n",
      "        818, 391, 159,  47, 970, 726, 281,  18, 715, 776, 486, 341, 377, 465,\n",
      "        320,  88, 609, 530, 503, 580, 982,  63, 587, 525, 526, 545, 469, 233,\n",
      "        153, 724, 390, 820, 511, 576, 750,  55, 301, 356, 283, 227, 581,  25,\n",
      "        497, 721, 841, 302,  77, 471, 332, 472,  60, 182, 850, 782, 122, 709,\n",
      "        246, 453, 129, 262, 779, 286, 650, 651,  94, 280, 152, 689, 478, 806,\n",
      "         87, 482, 295, 659, 543, 423, 805, 996,  54, 924, 308, 567, 148,  41,\n",
      "        510, 250, 985,  56, 171, 565, 360, 730, 644, 578, 870, 133, 821, 399,\n",
      "        418, 960,  89, 180, 263, 381,  49,  14, 861, 417, 854, 939, 555, 801,\n",
      "         59,  91, 583, 144, 318, 771, 398, 714, 682, 541,  93, 455, 921, 652,\n",
      "          6, 334, 317, 975, 570, 859, 990, 291, 282, 981,  39, 357, 117, 307,\n",
      "        475, 361, 178,  96, 932, 810, 549, 887, 134,  81, 502, 452, 535, 847,\n",
      "        860, 787, 477, 128, 367, 690, 421, 515, 743, 720, 537, 479, 657, 562,\n",
      "        299, 785, 811, 710, 155, 764, 622, 573,  33, 481], device='cuda:0')\n"
     ]
    }
   ],
   "source": [
    "print(items) # dim: 500"
   ]
  },
  {
   "cell_type": "code",
   "execution_count": 83,
   "metadata": {},
   "outputs": [],
   "source": [
    "# y_train: all 1's\n",
    "# dim of users_train, items_train: 25142 (train._nnz() * 6000 * 500)\n",
    "users_train, items_train, y_train = train_loader.get_batch(users, items, device)"
   ]
  },
  {
   "cell_type": "code",
   "execution_count": 93,
   "metadata": {},
   "outputs": [],
   "source": [
    "weight = torch.ones(y_train.shape).to(device)"
   ]
  },
  {
   "cell_type": "code",
   "execution_count": 94,
   "metadata": {},
   "outputs": [],
   "source": [
    "for i in range(len(y_unique)):\n",
    "    weight[y_train==y_unique[i]] = InvP[i]"
   ]
  },
  {
   "attachments": {},
   "cell_type": "markdown",
   "metadata": {},
   "source": [
    "### Step 1: update imputation error model on observed data"
   ]
  },
  {
   "cell_type": "code",
   "execution_count": 96,
   "metadata": {},
   "outputs": [
    {
     "data": {
      "text/plain": [
       "MF(\n",
       "  (user_latent): Embedding(15400, 10)\n",
       "  (item_latent): Embedding(1000, 10)\n",
       "  (user_bias): Embedding(15400, 1)\n",
       "  (item_bias): Embedding(1000, 1)\n",
       "  (dropout): Dropout(p=0, inplace=False)\n",
       ")"
      ]
     },
     "execution_count": 96,
     "metadata": {},
     "output_type": "execute_result"
    }
   ],
   "source": [
    "imputation_model.train()"
   ]
  },
  {
   "cell_type": "code",
   "execution_count": 99,
   "metadata": {},
   "outputs": [],
   "source": [
    "e_hat = imputation_model(users_train, items_train) # imputation error, dim: 25142"
   ]
  },
  {
   "cell_type": "code",
   "execution_count": 100,
   "metadata": {},
   "outputs": [
    {
     "data": {
      "text/plain": [
       "tensor([-0.0430,  0.0629,  0.0201,  ..., -0.0500, -0.0386,  0.0917],\n",
       "       device='cuda:0', grad_fn=<SqueezeBackward1>)"
      ]
     },
     "execution_count": 100,
     "metadata": {},
     "output_type": "execute_result"
    }
   ],
   "source": [
    "e_hat"
   ]
  },
  {
   "cell_type": "code",
   "execution_count": 101,
   "metadata": {},
   "outputs": [],
   "source": [
    "e = y_train - base_model(users_train, items_train) # prediction error, dim: 25142"
   ]
  },
  {
   "cell_type": "code",
   "execution_count": 110,
   "metadata": {},
   "outputs": [
    {
     "data": {
      "text/plain": [
       "tensor([0.9703, 1.0003, 0.9692,  ..., 1.0331, 0.9851, 0.9773], device='cuda:0',\n",
       "       grad_fn=<SubBackward0>)"
      ]
     },
     "execution_count": 110,
     "metadata": {},
     "output_type": "execute_result"
    }
   ],
   "source": [
    "e"
   ]
  },
  {
   "cell_type": "code",
   "execution_count": 105,
   "metadata": {},
   "outputs": [],
   "source": [
    "cost_e = none_criterion(e_hat, e) # the cost of error, MSE between imputation and prediction error"
   ]
  },
  {
   "cell_type": "code",
   "execution_count": 108,
   "metadata": {},
   "outputs": [
    {
     "data": {
      "text/plain": [
       "tensor([1.0268, 0.8787, 0.9008,  ..., 1.1731, 1.0479, 0.7844], device='cuda:0',\n",
       "       grad_fn=<MseLossBackward0>)"
      ]
     },
     "execution_count": 108,
     "metadata": {},
     "output_type": "execute_result"
    }
   ],
   "source": [
    "cost_e # (e[0].item() - e_hat[0].item()) ** 2 == cost_e[0].item()"
   ]
  },
  {
   "cell_type": "code",
   "execution_count": null,
   "metadata": {},
   "outputs": [],
   "source": [
    "loss_imp = torch.sum(weight * cost_e) + imputation_model_args['weight_decay'] * imputation_model.l2_norm(users_train, items_train)"
   ]
  },
  {
   "cell_type": "code",
   "execution_count": null,
   "metadata": {},
   "outputs": [],
   "source": []
  },
  {
   "attachments": {},
   "cell_type": "markdown",
   "metadata": {},
   "source": [
    "### Full training code"
   ]
  },
  {
   "cell_type": "code",
   "execution_count": null,
   "metadata": {},
   "outputs": [],
   "source": [
    "for epoch in range(early_stopping.max_epochs):\n",
    "    for u_batch_idx, users in enumerate(train_loader.User_loader):\n",
    "        for i_batch_idx, items in enumerate(train_loader.Item_loader):\n",
    "            # observation data in this batch\n",
    "            users_train, items_train, y_train = train_loader.get_batch(users, items, device)"
   ]
  },
  {
   "cell_type": "code",
   "execution_count": null,
   "metadata": {},
   "outputs": [],
   "source": []
  },
  {
   "cell_type": "code",
   "execution_count": null,
   "metadata": {},
   "outputs": [],
   "source": []
  },
  {
   "cell_type": "code",
   "execution_count": null,
   "metadata": {},
   "outputs": [],
   "source": []
  },
  {
   "attachments": {},
   "cell_type": "markdown",
   "metadata": {},
   "source": [
    "## Train & Eval"
   ]
  },
  {
   "cell_type": "code",
   "execution_count": 48,
   "metadata": {},
   "outputs": [],
   "source": [
    "# train_and_eval(train, \n",
    "#               unif_train,\n",
    "#               validation,\n",
    "#               test,\n",
    "#               device, \n",
    "#               base_model_args=base_model_args, \n",
    "#               weight1_model_args=weight1_model_args, \n",
    "#               weight2_model_args=weight2_model_args, \n",
    "#               imputation_model_args=imputation_model_args, \n",
    "#               training_args=training_args)"
   ]
  },
  {
   "cell_type": "code",
   "execution_count": 49,
   "metadata": {},
   "outputs": [
    {
     "data": {
      "text/plain": [
       "tensor([[0., 0., 0.,  ..., 0., 0., 0.],\n",
       "        [0., 0., 0.,  ..., 0., 0., 0.],\n",
       "        [0., 0., 0.,  ..., 0., 0., 0.],\n",
       "        ...,\n",
       "        [0., 0., 0.,  ..., 0., 0., 0.],\n",
       "        [0., 0., 0.,  ..., 0., 0., 0.],\n",
       "        [0., 0., 0.,  ..., 0., 0., 0.]])"
      ]
     },
     "execution_count": 49,
     "metadata": {},
     "output_type": "execute_result"
    }
   ],
   "source": [
    "# transform sparse to dense matrix\n",
    "train_data = train\n",
    "train_dense = train_data.to_dense()\n",
    "train_dense"
   ]
  },
  {
   "cell_type": "code",
   "execution_count": 50,
   "metadata": {},
   "outputs": [],
   "source": [
    "unif_train_data = unif_train\n",
    "users_unif = unif_train_data._indices()[0]\n",
    "items_unif = unif_train_data._indices()[1]\n",
    "y_unif = unif_train_data._values()"
   ]
  },
  {
   "cell_type": "code",
   "execution_count": 51,
   "metadata": {},
   "outputs": [],
   "source": [
    "# build data_loader. (block matrix data loader)\n",
    "\n",
    "train_loader = utils.data_loader.Block(train_data,\n",
    "                                       u_batch_size=training_args['block_batch'][0],\n",
    "                                       i_batch_size=training_args['block_batch'][1],\n",
    "                                       device=device)"
   ]
  },
  {
   "cell_type": "code",
   "execution_count": 52,
   "metadata": {},
   "outputs": [],
   "source": [
    "val_data, test_data = validation, test\n",
    "val_loader = utils.data_loader.DataLoader(utils.data_loader.Interactions(val_data), batch_size=training_args['batch_size'], shuffle=False, num_workers=0)\n",
    "test_loader = utils.data_loader.DataLoader(utils.data_loader.Interactions(test_data), batch_size=training_args['batch_size'], shuffle=False, num_workers=0)"
   ]
  },
  {
   "cell_type": "code",
   "execution_count": 53,
   "metadata": {},
   "outputs": [
    {
     "name": "stdout",
     "output_type": "stream",
     "text": [
      "15400 1000\n"
     ]
    }
   ],
   "source": [
    "# data shape\n",
    "n_user, n_item = train_data.shape\n",
    "print(n_user, n_item)"
   ]
  },
  {
   "attachments": {},
   "cell_type": "markdown",
   "metadata": {},
   "source": [
    "## Models"
   ]
  },
  {
   "cell_type": "code",
   "execution_count": 54,
   "metadata": {},
   "outputs": [],
   "source": [
    "class MF(nn.Module):\n",
    "  \"\"\"\n",
    "  Base module for matrix factoriazation\n",
    "  \"\"\"\n",
    "  def __init__(self, n_user, n_item, dim=40, dropout=0, init=None):\n",
    "    super().__init__()\n",
    "    \n",
    "    self.user_latent = nn.Embedding(n_user, dim)\n",
    "    self.item_latent = nn.Embedding(n_item, dim)\n",
    "    \n",
    "    self.user_bias = nn.Embedding(n_user, 1)\n",
    "    self.item_bias = nn.Embedding(n_item, 1)\n",
    "    \n",
    "    self.dropout_p = dropout\n",
    "    self.dropout = nn.Dropout(p=self.dropout_p)\n",
    "    if not init:\n",
    "      self.init_embedding(init)\n",
    "    else:\n",
    "      self.init_embedding(0)\n",
    "    \n",
    "  def init_embedding(self, init):\n",
    "    nn.init.kaiming_normal_(self.user_latent.weight.data, mode='fan_out', a=init)\n",
    "    nn.init.kaiming_normal_(self.item_latent.weight.data, mode='fan_out', a=init)\n",
    "    nn.init.kaiming_normal_(self.user_bias.weight.data, mode='fan_out', a=init)\n",
    "    nn.init.kaiming_normal_(self.item_bias.weight.data, mode='fan_out', a=init)\n",
    "    \n",
    "  def forward(self, users, items):\n",
    "    u_latent = self.dropout(self.user_latent(users))\n",
    "    i_latent = self.dropout(self.item_latent(items))\n",
    "    \n",
    "    u_bias = self.user_bias(users)\n",
    "    i_bias = self.user_bias(items)\n",
    "    \n",
    "    preds = torch.sum(u_latent * i_latent, dim=1, keepdim=True) + u_bias + i_bias\n",
    "    \n",
    "    return preds.squeeze(dim=-1)\n",
    "  \n",
    "  def l2_norm(self, users, items):\n",
    "    users = torch.unique(users)\n",
    "    items = torch.unique(items)\n",
    "    \n",
    "    l2_loss = (torch.sum(self.user_latent(users)**2) + torch.sum(self.item_latent(items)**2)) / 2\n",
    "    return l2_loss\n"
   ]
  },
  {
   "cell_type": "code",
   "execution_count": 55,
   "metadata": {},
   "outputs": [],
   "source": [
    "from model import MetaModule, MetaEmbed\n",
    "class MetaEmbed(MetaModule):\n",
    "  \"\"\"\n",
    "  Base module for matrix factorization\n",
    "  \"\"\"\n",
    "  def __init__(self, dim_1, dim_2):\n",
    "    super().__init__()\n",
    "    ignore = nn.Embedding(dim_1, dim_2)\n",
    "    \n",
    "    self.register_buffer('weight', to_var(ignore.weight.data, requires_grad=True))\n",
    "    self.register_buffer('bias', None)\n",
    "    \n",
    "  def forward(self):\n",
    "    return self.weight\n",
    "  \n",
    "  def named_leaves(self):\n",
    "    return [('weight', self.weight), ('bias', self.bias)]"
   ]
  },
  {
   "cell_type": "code",
   "execution_count": 56,
   "metadata": {},
   "outputs": [],
   "source": [
    "class MetaMF(MetaModule):\n",
    "    \"\"\"\n",
    "    Base module for matrix factorization.\n",
    "    \"\"\"\n",
    "    def __init__(self, n_user, n_item, dim=40, dropout=0, init = None):\n",
    "        super().__init__()\n",
    "        \n",
    "        self.user_latent = MetaEmbed(n_user, dim)\n",
    "        self.item_latent = MetaEmbed(n_item, dim)\n",
    "        self.user_bias = MetaEmbed(n_user, 1)\n",
    "        self.item_bias = MetaEmbed(n_item, 1)\n",
    "        self.dropout_p = dropout\n",
    "        self.dropout = nn.Dropout(p=self.dropout_p)\n",
    "        if init is not None:\n",
    "            self.init_embedding(init)\n",
    "        else: \n",
    "            self.init_embedding(0)\n",
    "        \n",
    "    def init_embedding(self, init): \n",
    "\n",
    "        nn.init.kaiming_normal_(self.user_latent.weight, mode='fan_out', a = init)\n",
    "        nn.init.kaiming_normal_(self.item_latent.weight, mode='fan_out', a = init)\n",
    "        nn.init.kaiming_normal_(self.user_bias.weight, mode='fan_out', a = init)\n",
    "        nn.init.kaiming_normal_(self.item_bias.weight, mode='fan_out', a = init)\n",
    "          \n",
    "    def forward(self, users, items):\n",
    "        u_latent = self.dropout(self.user_latent.weight[users])\n",
    "        i_latent = self.dropout(self.item_latent.weight[items])\n",
    "        u_bias = self.user_bias.weight[users]\n",
    "        i_bias = self.item_bias.weight[items]\n",
    "\n",
    "        preds = torch.sum(u_latent * i_latent, dim=1, keepdim=True) + u_bias + i_bias\n",
    "        return preds.squeeze(dim=-1)\n",
    "\n",
    "    def l2_norm(self, users, items, unique = True): \n",
    "\n",
    "        users = torch.unique(users)\n",
    "        items = torch.unique(items)\n",
    "        \n",
    "        l2_loss = (torch.sum(self.user_latent.weight[users]**2) + torch.sum(self.item_latent.weight[items]**2)) / 2\n",
    "        return l2_loss"
   ]
  },
  {
   "cell_type": "code",
   "execution_count": 57,
   "metadata": {},
   "outputs": [],
   "source": [
    "# import torch\n",
    "# import torch.nn as nn\n",
    "\n",
    "# # Define the embedding layer\n",
    "# embedding_dim = 10\n",
    "# vocab_size = 100\n",
    "# embedding_layer = nn.Embedding(vocab_size, embedding_dim)\n",
    "\n",
    "# # Example input indices\n",
    "# indices = torch.tensor(list(range(4)))\n",
    "\n",
    "# # Apply the embedding layer\n",
    "# embedded_output = embedding_layer(indices)\n",
    "\n",
    "# print(embedded_output.shape)"
   ]
  },
  {
   "cell_type": "code",
   "execution_count": 58,
   "metadata": {},
   "outputs": [],
   "source": [
    "base_model = MetaMF(n_user, n_item, dim=base_model_args['emb_dim'], dropout=0).to(device)\n",
    "base_optimizer = torch.optim.SGD(base_model.params(), lr=base_model_args['learning_rate'], weight_decay=0) # todo: other optimizer SGD"
   ]
  },
  {
   "attachments": {},
   "cell_type": "markdown",
   "metadata": {},
   "source": [
    "register_buffer 로 layer를 등록하면 어떤 특징이 있는가?\n",
    "\n",
    "1. optimizer가 업데이트하지 않는다.\n",
    "\n",
    "2. 그러나 값은 존재한다(하나의 layer로써 작용한다고 보면 된다.)\n",
    "\n",
    "3. state_dict()로 확인이 가능하다.\n",
    "\n",
    "4. GPU연산이 가능하다.\n",
    "\n",
    " \n",
    "\n",
    "따라서 네트워크를 구성함에 있어서 네트워크를 end2end로 학습시키고 싶은데 중간에 업데이트를 하지않는 일반 layer를 넣고 싶을 때 사용할 수 있다."
   ]
  },
  {
   "cell_type": "code",
   "execution_count": 59,
   "metadata": {},
   "outputs": [],
   "source": [
    "def to_var(x, requires_grad=True):\n",
    "  x = x.cuda() if torch.cuda.is_available() else x\n",
    "  return Variable(x, requires_grad=requires_grad) # 현재는 모든 tensor에서 required_grad 옵션을 통해 gradient를 추적할 수 있기 때문에 따로 위와 같이 Variable로 감싸줄 필요가 없다. (현재는 쓸 필요 없음)\n"
   ]
  },
  {
   "cell_type": "code",
   "execution_count": 60,
   "metadata": {},
   "outputs": [],
   "source": [
    "class OneLinear(nn.Module):\n",
    "  \"\"\"\n",
    "  linear model: r\n",
    "  \"\"\"\n",
    "  def __init__(self, n):\n",
    "    super().__init__()\n",
    "\n",
    "    self.bias = nn.Embedding(n,1)\n",
    "    self.init_embedding()\n",
    "\n",
    "  def init_embedding(self):\n",
    "    self.bias.weight.data *= 0.01\n",
    "\n",
    "  def forward(self, values):\n",
    "    d_bias = self.bias(values)\n",
    "    return d_bias.squeeze()\n"
   ]
  },
  {
   "cell_type": "code",
   "execution_count": 61,
   "metadata": {},
   "outputs": [],
   "source": [
    "class TwoLinear(nn.Module):\n",
    "  def __init__(self, n_user, n_item):\n",
    "    super().__init__()\n",
    "\n",
    "    self.user_bias = nn.Embedding(n_user, 1)\n",
    "    self.item_bias = nn.Embedding(n_item, 1)\n",
    "\n",
    "    self.init_embedding(0)\n",
    "  \n",
    "  def init_embedding(self, init):\n",
    "    nn.init.kaiming_normal_(self.user_bias.weight, mode='fan_out', a=init)\n",
    "    nn.init.kaiming_normal_(self.item_bias.weight, mode='fan_out', a=init)\n",
    "\n",
    "  def forward(self, users, items):\n",
    "    u_bias = self.user_bias(users)\n",
    "    i_bias = self.item_bias(items)\n",
    "    preds = u_bias + i_bias\n",
    "    \n",
    "    return preds.squeeze()"
   ]
  },
  {
   "cell_type": "code",
   "execution_count": 62,
   "metadata": {},
   "outputs": [],
   "source": [
    "class ThreeLinear(nn.Module):\n",
    "  \"\"\"\n",
    "  linear model: u + i + r / o\n",
    "  \"\"\"\n",
    "  def __init__(self, n_user, n_item, n):\n",
    "    super().__init__()\n",
    "    \n",
    "    self.user_bias = nn.Embedding(n_user, 1)\n",
    "    self.item_bias = nn.Embedding(n_item, 1)\n",
    "    self.data_bias= nn.Embedding(n, 1)\n",
    "    self.init_embedding(0)\n",
    "      \n",
    "  def init_embedding(self, init): \n",
    "    nn.init.kaiming_normal_(self.user_bias.weight, mode='fan_out', a = init)\n",
    "    nn.init.kaiming_normal_(self.item_bias.weight, mode='fan_out', a = init)\n",
    "    nn.init.kaiming_normal_(self.data_bias.weight, mode='fan_out', a = init)\n",
    "    self.data_bias.weight.data *= 0.001\n",
    "\n",
    "  def forward(self, users, items, values):\n",
    "\n",
    "    u_bias = self.user_bias(users)\n",
    "    i_bias = self.item_bias(items)\n",
    "    d_bias = self.data_bias(values)\n",
    "\n",
    "    preds = u_bias + i_bias + d_bias\n",
    "    return preds.squeeze()"
   ]
  },
  {
   "cell_type": "code",
   "execution_count": 63,
   "metadata": {},
   "outputs": [],
   "source": [
    "weight1_model = TwoLinear(n_user, n_item).to(device)\n",
    "weight1_optimizer = torch.optim.Adam(weight1_model.parameters(), \n",
    "                                     lr=base_model_args['learning_rate'],\n",
    "                                     weight_decay=0)"
   ]
  },
  {
   "cell_type": "code",
   "execution_count": 64,
   "metadata": {},
   "outputs": [],
   "source": [
    "weight2_model = ThreeLinear(n_user, n_item, 2).to(device)\n",
    "weight2_optimizer = torch.optim.Adam(weight2_model.parameters(), \n",
    "                                     lr=weight2_model_args['learning_rate'],\n",
    "                                     weight_decay=weight2_model_args['weight_decay'])"
   ]
  },
  {
   "cell_type": "code",
   "execution_count": 65,
   "metadata": {},
   "outputs": [],
   "source": [
    "imputation_model = OneLinear(2).to(device)\n",
    "imputation_optimizer = torch.optim.Adam(imputation_model.parameters(),\n",
    "                                        lr=imputation_model_args['learning_rate'],\n",
    "                                        weight_decay=imputation_model_args['weight_decay'])"
   ]
  },
  {
   "cell_type": "code",
   "execution_count": 66,
   "metadata": {},
   "outputs": [],
   "source": [
    "# loss criterion\n",
    "sum_criterion = nn.MSELoss(reduction='sum')\n",
    "none_criterion = nn.MSELoss(reduction='none')"
   ]
  },
  {
   "attachments": {},
   "cell_type": "markdown",
   "metadata": {},
   "source": [
    "## Training"
   ]
  },
  {
   "cell_type": "code",
   "execution_count": 67,
   "metadata": {},
   "outputs": [
    {
     "data": {
      "text/plain": [
       "torch.Size([15400, 1000])"
      ]
     },
     "execution_count": 67,
     "metadata": {},
     "output_type": "execute_result"
    }
   ],
   "source": [
    "train_dense.shape"
   ]
  },
  {
   "cell_type": "code",
   "execution_count": 68,
   "metadata": {},
   "outputs": [],
   "source": [
    "stopping_args = Stop_args(patience=training_args['patience'], max_epochs=training_args['epochs'])\n",
    "early_stopping = EarlyStopping(base_model, **stopping_args)"
   ]
  },
  {
   "cell_type": "code",
   "execution_count": 76,
   "metadata": {},
   "outputs": [],
   "source": [
    "from train_implicit import train_and_eval\n",
    "\n",
    "# setting that works well\n",
    "train_and_eval(train, \n",
    "               unif_train, \n",
    "               validation, \n",
    "               test,\n",
    "               device,\n",
    "               base_model_args = base_model_args, \n",
    "               weight1_model_args = weight1_model_args,\n",
    "               weight2_model_args = weight2_model_args,\n",
    "               imputation_model_args = imputation_model_args, \n",
    "               training_args = training_args)"
   ]
  },
  {
   "cell_type": "code",
   "execution_count": 33,
   "metadata": {},
   "outputs": [],
   "source": [
    "# # users and items have shape of 1000 and 100, respectively\n",
    "# for epoch in range(training_args['epochs']):\n",
    "#   training_loss = 0\n",
    "#   for u_batch_idx, users in enumerate(train_loader.User_loader):\n",
    "#     for i_batch_idx, items in enumerate(train_loader.Item_loader):\n",
    "#       # training set: 1. update parameters one_step (assumed update); 2. update parameters (real update) \n",
    "#       # uniform set: update hyper_parameters using gradient descent.\n",
    "      \n",
    "#       # print(users.shape, items.shape) # torch.Size([1000]) torch.Size([100])\n",
    "      \n",
    "#       # index_row = np.isin(train_data._indices()[0].cpu().numpy(), users.cpu().numpy())\n",
    "#       # index_col = np.isin(train_data._indices()[1].cpu().numpy(), items.cpu().numpy())\n",
    "#       # index = torch.tensor(np.where(index_row * index_col)[0]).to(device)\n",
    "#       # print(index_row.shape, index_col.shape, index.shape) # (125077,) (125077,) <- number of observed elements / torch.Size([1023])\n",
    "      \n",
    "#       # y_train consists of 1s only\n",
    "#       users_train, items_train, y_train = train_loader.get_batch(users, items, device)\n",
    "#       # print(users_train.shape, items_train.shape) # ex. torch.Size([1023]) torch.Size([1023])\n",
    "    \n",
    "#       # calculate weight 1\n",
    "#       weight1_model.train()\n",
    "#       weight1 = weight1_model(users_train, items_train)\n",
    "#       weight1 = torch.exp(weight1/5)\n",
    "      \n",
    "#       # all pair\n",
    "#       all_pair = torch.cartesian_prod(users, items)\n",
    "#       users_all, items_all = all_pair[:, 0], all_pair[:, 1]\n",
    "#       # print(users_all.shape) # torch.Size([1000 * 100])\n",
    "      \n",
    "#       # calculate weight 2\n",
    "#       weight2_model.train()\n",
    "#       weight2 = weight2_model(users_all, items_all, (train_dense[users_all,items_all]!=0)*1) # *1: bool -> int\n",
    "#       weight2 = torch.exp(weight2/5)\n",
    "      \n",
    "#       # caclculate imputation values\n",
    "#       imputation_model.train()\n",
    "#       impu_f_all = torch.tanh(imputation_model((train_dense[users_all,items_all]).long()))\n",
    "      \n",
    "#       # print(weight1.shape, weight2.shape, impu_f_all.shape) # torch.Size([788]) torch.Size([100000]) torch.Size([100000])\n",
    "      \n",
    "#       ######################################\n",
    "#       ## 1. Assumed Update of theta (Black Arrows) #\n",
    "#       ######################################\n",
    "#       # one_step_model: assumed model, just update one step on base model. it is for updating weight parameters\n",
    "#       one_step_model = MetaMF(n_user, n_item, dim=base_model_args['emb_dim'], dropout=0)\n",
    "#       one_step_model.load_state_dict(base_model.state_dict()) # state_dict 는 간단히 말해 각 계층을 매개변수 텐서로 매핑되는 Python 사전(dict) 객체\n",
    "      \n",
    "#       # formal parameter: using training set to update parameters\n",
    "#       one_step_model.train()\n",
    "#       # all pair data in this block\n",
    "#       y_hat_f_all = one_step_model(users_all, items_all)\n",
    "#       cost_f_all = none_criterion(y_hat_f_all, impu_f_all)\n",
    "#       loss_f_all = torch.sum(cost_f_all * weight2)\n",
    "\n",
    "#       # observation data\n",
    "#       y_hat_f_obs = one_step_model(users_train, items_train)\n",
    "#       cost_f_obs = none_criterion(y_hat_f_obs, y_train)\n",
    "#       loss_f_obs = torch.sum(cost_f_obs * weight1)\n",
    "#       loss_f = loss_f_obs + base_model_args['imputaion_lambda'] * loss_f_all + base_model_args['weight_decay'] * one_step_model.l2_norm(users_all, items_all)\n",
    "      \n",
    "#       # assumed update (not a real update)\n",
    "#       one_step_model.zero_grad()\n",
    "#       grads = torch.autograd.grad(loss_f, (one_step_model.params()), create_graph=True)\n",
    "#       one_step_model.update_params(base_model_args['learning_rate'], source_params=grads)\n",
    "      \n",
    "#       ######################################\n",
    "#       ### 2. Update of pi (Blue Arrows) ####\n",
    "#       ######################################\n",
    "#       # latter hyper_parameter: Using uniform set to update hyper_parameters\n",
    "#       y_hat_l = one_step_model(users_unif, items_unif)\n",
    "#       loss_l = sum_criterion(y_hat_l, y_unif)\n",
    "      \n",
    "#       # update hyper-parameters\n",
    "#       weight1_optimizer.zero_grad()\n",
    "#       weight2_optimizer.zero_grad()\n",
    "#       imputation_optimizer.zero_grad()\n",
    "#       loss_l.backward()\n",
    "#       if epoch >= 20:\n",
    "#         weight1_optimizer.step()\n",
    "#         weight2_optimizer.step()\n",
    "#       imputation_optimizer.step()\n",
    "      \n",
    "      \n",
    "#       ######################################\n",
    "#       ### 3. Update of theta (Black Arrows) ####\n",
    "#       ######################################\n",
    "#       # use new weights to update parameters (real update)\n",
    "#       weight1_model.train()\n",
    "#       weight1 = weight1_model(users_train, items_train)\n",
    "#       weight1 = torch.exp(weight1/5)\n",
    "      \n",
    "#       # calculate weight2\n",
    "#       weight2_model.train()\n",
    "#       weight2 = weight2_model(users_all, items_all,(train_dense[users_all,items_all]!=0)*1)\n",
    "#       weight2 = torch.exp(weight2/5) # for stable training\n",
    "      \n",
    "#       # use new imputation to update parameters\n",
    "#       imputation_model.train()\n",
    "#       impu_all = torch.tanh(imputation_model((train_dense[users_all,items_all]).long()))\n",
    "\n",
    "#       # loss of training set\n",
    "#       base_model.train()\n",
    "#       # all pair\n",
    "#       y_hat_all = base_model(users_all, items_all)\n",
    "#       cost_all = none_criterion(y_hat_all, impu_all)\n",
    "#       loss_all = torch.sum(cost_all * weight2)\n",
    "#       # observation\n",
    "#       y_hat_obs = base_model(users_train, items_train)\n",
    "#       cost_obs = none_criterion(y_hat_obs, y_train)\n",
    "#       loss_obs = torch.sum(cost_obs * weight1)\n",
    "#       loss = loss_obs + base_model_args['imputaion_lambda'] * loss_all + base_model_args['weight_decay'] * base_model.l2_norm(users_all, items_all)\n",
    "      \n",
    "#       base_optimizer.zero_grad()\n",
    "#       loss.backward()\n",
    "#       base_optimizer.step()\n",
    "\n",
    "#       training_loss += loss.item()\n",
    "      \n",
    "#   base_model.eval()\n",
    "#   with torch.no_grad():\n",
    "#       # training metrics\n",
    "#       train_pre_ratings = torch.empty(0).to(device)\n",
    "#       train_ratings = torch.empty(0).to(device)\n",
    "#       for u_batch_idx, users in enumerate(train_loader.User_loader): \n",
    "#           for i_batch_idx, items in enumerate(train_loader.Item_loader): \n",
    "#               users_train, items_train, y_train = train_loader.get_batch(users, items, device)\n",
    "#               pre_ratings = base_model(users_train, items_train)\n",
    "#               train_pre_ratings = torch.cat((train_pre_ratings, pre_ratings))\n",
    "#               train_ratings = torch.cat((train_ratings, y_train))\n",
    "\n",
    "#       # validation metrics\n",
    "#       val_pre_ratings = torch.empty(0).to(device)\n",
    "#       val_ratings = torch.empty(0).to(device)\n",
    "#       for batch_idx, (users, items, ratings) in enumerate(val_loader):\n",
    "#           pre_ratings = base_model(users, items)\n",
    "#           val_pre_ratings = torch.cat((val_pre_ratings, pre_ratings))\n",
    "#           val_ratings = torch.cat((val_ratings, ratings))\n",
    "\n",
    "#   train_results = utils.metrics.evaluate(train_pre_ratings, train_ratings, ['MSE'], device)\n",
    "#   val_results = utils.metrics.evaluate(val_pre_ratings, val_ratings, ['MSE', 'NLL', 'AUC'], device)\n",
    "\n",
    "#   print('Epoch: {0:2d} / {1}, Validation: {2}'.\n",
    "#           format(epoch, training_args['epochs'], \n",
    "#               ' '.join([key+':'+'%.3f'%val_results[key] for key in val_results])))\n",
    "\n",
    "#   if epoch >= 50 and early_stopping.check([val_results['AUC']], epoch):\n",
    "#       break"
   ]
  },
  {
   "attachments": {},
   "cell_type": "markdown",
   "metadata": {},
   "source": [
    "## Baseline Models"
   ]
  },
  {
   "attachments": {},
   "cell_type": "markdown",
   "metadata": {},
   "source": [
    "### 1. IPS"
   ]
  },
  {
   "cell_type": "code",
   "execution_count": 73,
   "metadata": {},
   "outputs": [],
   "source": [
    "from baselines.IPS import train_and_eval as train_and_eval_ips"
   ]
  },
  {
   "cell_type": "code",
   "execution_count": 75,
   "metadata": {},
   "outputs": [],
   "source": [
    "ips_training_args = {'batch_size': 1024, 'epochs': 500, 'patience': 60, 'block_batch': [6000, 500]}\n",
    "ips_base_model_args = {'emb_dim': 10, 'learning_rate': 0.00001, 'weight_decay': 0}\n",
    "\n",
    "train_and_eval_ips(train_data,\n",
    "                   unif_train_data,\n",
    "                   val_data,\n",
    "                   test_data,\n",
    "                   device=device, \n",
    "                   model_args=ips_base_model_args,\n",
    "                   training_args=ips_training_args)"
   ]
  },
  {
   "attachments": {},
   "cell_type": "markdown",
   "metadata": {},
   "source": [
    "### 2. DR"
   ]
  },
  {
   "cell_type": "code",
   "execution_count": 111,
   "metadata": {},
   "outputs": [],
   "source": [
    "dr_training_args = {'batch_size': 1024, 'epochs': 500, 'patience': 60, 'block_batch': [6000, 500]}\n",
    "dr_base_model_args = {'emb_dim': 10, 'learning_rate': 0.00001, 'weight_decay': 0}\n",
    "dr_imputation_model_args = {'emb_dim': 10, 'learning_rate': 0.00001, 'weight_decay': 0}\n"
   ]
  },
  {
   "cell_type": "code",
   "execution_count": 107,
   "metadata": {},
   "outputs": [],
   "source": [
    "def Naive_Bayes_Propensity(train, unif): \n",
    "    # the implementation of naive bayes propensity\n",
    "    P_Oeq1 = train._nnz() / (train.size()[0] * train.size()[1])\n",
    "\n",
    "    y_unique = torch.unique(train._values())\n",
    "    P_y_givenO = torch.zeros(y_unique.shape).to(device)\n",
    "    P_y = torch.zeros(y_unique.shape).to(device)\n",
    "\n",
    "    for i in range(len(y_unique)): \n",
    "        P_y_givenO[i] = torch.sum(train._values() == y_unique[i]) / torch.sum(torch.ones(train._values().shape).to(device))\n",
    "        P_y[i] = torch.sum(unif._values() == y_unique[i]) / torch.sum(torch.ones(unif._values().shape).to(device))\n",
    "\n",
    "    Propensity = P_y_givenO / P_y * P_Oeq1\n",
    "\n",
    "    return y_unique, Propensity"
   ]
  },
  {
   "cell_type": "code",
   "execution_count": 108,
   "metadata": {},
   "outputs": [],
   "source": [
    "y_unique, Propensity = Naive_Bayes_Propensity(train_data, unif_train_data)\n",
    "InvP = torch.reciprocal(Propensity)"
   ]
  },
  {
   "cell_type": "code",
   "execution_count": 109,
   "metadata": {},
   "outputs": [
    {
     "data": {
      "text/plain": [
       "(tensor([1.]), tensor([0.0949]), tensor([10.5340]))"
      ]
     },
     "execution_count": 109,
     "metadata": {},
     "output_type": "execute_result"
    }
   ],
   "source": [
    "y_unique, Propensity, InvP"
   ]
  },
  {
   "cell_type": "code",
   "execution_count": 80,
   "metadata": {},
   "outputs": [],
   "source": [
    "train, unif = train_data, unif_train_data"
   ]
  },
  {
   "cell_type": "code",
   "execution_count": 104,
   "metadata": {},
   "outputs": [
    {
     "data": {
      "text/plain": [
       "0.008121883116883118"
      ]
     },
     "execution_count": 104,
     "metadata": {},
     "output_type": "execute_result"
    }
   ],
   "source": [
    "P_Oeq1 = train._nnz() / (train.size()[0] * train.size()[1])\n",
    "P_Oeq1"
   ]
  },
  {
   "cell_type": "code",
   "execution_count": 89,
   "metadata": {},
   "outputs": [
    {
     "data": {
      "text/plain": [
       "tensor([1.])"
      ]
     },
     "execution_count": 89,
     "metadata": {},
     "output_type": "execute_result"
    }
   ],
   "source": [
    "y_unique = torch.unique(train._values())\n",
    "y_unique"
   ]
  },
  {
   "cell_type": "code",
   "execution_count": 93,
   "metadata": {},
   "outputs": [],
   "source": [
    "P_y_givenO = torch.zeros(y_unique.shape).to(device)\n",
    "P_y = torch.zeros(y_unique.shape).to(device)"
   ]
  },
  {
   "cell_type": "code",
   "execution_count": 94,
   "metadata": {},
   "outputs": [
    {
     "data": {
      "text/plain": [
       "(tensor([0.]), tensor([0.]))"
      ]
     },
     "execution_count": 94,
     "metadata": {},
     "output_type": "execute_result"
    }
   ],
   "source": [
    "P_y_givenO, P_y"
   ]
  },
  {
   "cell_type": "code",
   "execution_count": 101,
   "metadata": {},
   "outputs": [
    {
     "name": "stdout",
     "output_type": "stream",
     "text": [
      "0\n"
     ]
    }
   ],
   "source": [
    "for i in range(len(y_unique)):\n",
    "  print(i)\n",
    "  \n",
    "  P_y_givenO[i] = torch.sum(train._values() == y_unique[i]) / torch.sum(torch.ones(train._values().shape).to(device))\n",
    "  P_y[i] = torch.sum(unif._values() == y_unique[i]) / torch.sum(torch.ones(unif._values().shape).to(device))"
   ]
  },
  {
   "cell_type": "code",
   "execution_count": 102,
   "metadata": {},
   "outputs": [
    {
     "data": {
      "text/plain": [
       "(tensor([1.]), tensor([0.0856]))"
      ]
     },
     "execution_count": 102,
     "metadata": {},
     "output_type": "execute_result"
    }
   ],
   "source": [
    "P_y_givenO, P_y"
   ]
  },
  {
   "cell_type": "code",
   "execution_count": 106,
   "metadata": {},
   "outputs": [
    {
     "data": {
      "text/plain": [
       "tensor([0.0949])"
      ]
     },
     "execution_count": 106,
     "metadata": {},
     "output_type": "execute_result"
    }
   ],
   "source": [
    "Propensity = P_y_givenO / P_y * P_Oeq1\n",
    "Propensity"
   ]
  },
  {
   "cell_type": "code",
   "execution_count": 121,
   "metadata": {},
   "outputs": [],
   "source": [
    "# data shape\n",
    "n_user, n_item = train_data.shape\n",
    "\n",
    "# model and its optimizer. \n",
    "base_model = MF(n_user, n_item, dim=dr_base_model_args['emb_dim'], dropout=0).to(device)\n",
    "base_optimizer = torch.optim.SGD(base_model.parameters(), lr=dr_base_model_args['learning_rate'], weight_decay=0)\n",
    "\n",
    "imputation_model = MF(n_user, n_item, dim=dr_imputation_model_args['emb_dim'], dropout=0).to(device)\n",
    "imputation_optimizer = torch.optim.SGD(imputation_model.parameters(), lr=dr_imputation_model_args['learning_rate'], weight_decay=0)\n",
    "\n",
    "# loss_criterion\n",
    "none_criterion = nn.MSELoss(reduction='none')\n",
    "sum_criterion = nn.MSELoss(reduction='sum')"
   ]
  },
  {
   "cell_type": "code",
   "execution_count": 122,
   "metadata": {},
   "outputs": [],
   "source": [
    "stopping_args = Stop_args(patience=training_args['patience'], max_epochs=training_args['epochs'])\n",
    "early_stopping = EarlyStopping(base_model, **stopping_args)"
   ]
  },
  {
   "cell_type": "code",
   "execution_count": 125,
   "metadata": {},
   "outputs": [
    {
     "name": "stdout",
     "output_type": "stream",
     "text": [
      "Epoch:  0 / 500, Traning: MSE:nan NLL:nan, Validation: MSE:nan NLL:nan AUC:0.494\n",
      "Epoch:  1 / 500, Traning: MSE:nan NLL:nan, Validation: MSE:nan NLL:nan AUC:0.494\n"
     ]
    },
    {
     "ename": "KeyboardInterrupt",
     "evalue": "",
     "output_type": "error",
     "traceback": [
      "\u001b[0;31m---------------------------------------------------------------------------\u001b[0m",
      "\u001b[0;31mKeyboardInterrupt\u001b[0m                         Traceback (most recent call last)",
      "Cell \u001b[0;32mIn[125], line 50\u001b[0m\n\u001b[1;32m     47\u001b[0m     loss_base \u001b[39m=\u001b[39m loss_all \u001b[39m+\u001b[39m loss_obs \u001b[39m+\u001b[39m dr_base_model_args[\u001b[39m'\u001b[39m\u001b[39mweight_decay\u001b[39m\u001b[39m'\u001b[39m] \u001b[39m*\u001b[39m base_model\u001b[39m.\u001b[39ml2_norm(users_all, items_all)\n\u001b[1;32m     49\u001b[0m     base_optimizer\u001b[39m.\u001b[39mzero_grad()\n\u001b[0;32m---> 50\u001b[0m     loss_base\u001b[39m.\u001b[39;49mbackward()\n\u001b[1;32m     51\u001b[0m     base_optimizer\u001b[39m.\u001b[39mstep()\n\u001b[1;32m     53\u001b[0m base_model\u001b[39m.\u001b[39meval()\n",
      "File \u001b[0;32m~/.local/lib/python3.10/site-packages/torch/_tensor.py:487\u001b[0m, in \u001b[0;36mTensor.backward\u001b[0;34m(self, gradient, retain_graph, create_graph, inputs)\u001b[0m\n\u001b[1;32m    477\u001b[0m \u001b[39mif\u001b[39;00m has_torch_function_unary(\u001b[39mself\u001b[39m):\n\u001b[1;32m    478\u001b[0m     \u001b[39mreturn\u001b[39;00m handle_torch_function(\n\u001b[1;32m    479\u001b[0m         Tensor\u001b[39m.\u001b[39mbackward,\n\u001b[1;32m    480\u001b[0m         (\u001b[39mself\u001b[39m,),\n\u001b[0;32m   (...)\u001b[0m\n\u001b[1;32m    485\u001b[0m         inputs\u001b[39m=\u001b[39minputs,\n\u001b[1;32m    486\u001b[0m     )\n\u001b[0;32m--> 487\u001b[0m torch\u001b[39m.\u001b[39;49mautograd\u001b[39m.\u001b[39;49mbackward(\n\u001b[1;32m    488\u001b[0m     \u001b[39mself\u001b[39;49m, gradient, retain_graph, create_graph, inputs\u001b[39m=\u001b[39;49minputs\n\u001b[1;32m    489\u001b[0m )\n",
      "File \u001b[0;32m~/.local/lib/python3.10/site-packages/torch/autograd/__init__.py:200\u001b[0m, in \u001b[0;36mbackward\u001b[0;34m(tensors, grad_tensors, retain_graph, create_graph, grad_variables, inputs)\u001b[0m\n\u001b[1;32m    195\u001b[0m     retain_graph \u001b[39m=\u001b[39m create_graph\n\u001b[1;32m    197\u001b[0m \u001b[39m# The reason we repeat same the comment below is that\u001b[39;00m\n\u001b[1;32m    198\u001b[0m \u001b[39m# some Python versions print out the first line of a multi-line function\u001b[39;00m\n\u001b[1;32m    199\u001b[0m \u001b[39m# calls in the traceback and some print out the last line\u001b[39;00m\n\u001b[0;32m--> 200\u001b[0m Variable\u001b[39m.\u001b[39;49m_execution_engine\u001b[39m.\u001b[39;49mrun_backward(  \u001b[39m# Calls into the C++ engine to run the backward pass\u001b[39;49;00m\n\u001b[1;32m    201\u001b[0m     tensors, grad_tensors_, retain_graph, create_graph, inputs,\n\u001b[1;32m    202\u001b[0m     allow_unreachable\u001b[39m=\u001b[39;49m\u001b[39mTrue\u001b[39;49;00m, accumulate_grad\u001b[39m=\u001b[39;49m\u001b[39mTrue\u001b[39;49;00m)\n",
      "\u001b[0;31mKeyboardInterrupt\u001b[0m: "
     ]
    }
   ],
   "source": [
    "for epo in range(early_stopping.max_epochs):\n",
    "        for u_batch_idx, users in enumerate(train_loader.User_loader): \n",
    "            for i_batch_idx, items in enumerate(train_loader.Item_loader): \n",
    "                # observation data in this batch\n",
    "                users_train, items_train, y_train = train_loader.get_batch(users, items)\n",
    "                weight = torch.ones(y_train.shape).to(device)\n",
    "                for i in range(len(y_unique)): \n",
    "                    weight[y_train == y_unique[i]] = InvP[i]\n",
    "\n",
    "                # step 1: update imptation error model\n",
    "                imputation_model.train()\n",
    "\n",
    "                e_hat = imputation_model(users_train, items_train) # imputation error\n",
    "                e = y_train - base_model(users_train, items_train) # prediction error\n",
    "                cost_e = none_criterion(e_hat, e) # the cost of error, i.e., the difference between imputaiton error and prediction error\n",
    "\n",
    "                loss_imp = torch.sum(weight * cost_e) + imputation_model_args['weight_decay'] * imputation_model.l2_norm(users_train, items_train)\n",
    "                \n",
    "                imputation_optimizer.zero_grad()\n",
    "                loss_imp.backward()\n",
    "                imputation_optimizer.step()\n",
    "\n",
    "                # step 2: update predition model\n",
    "                base_model.train()\n",
    "\n",
    "                # all pair data in this block\n",
    "                all_pair = torch.cartesian_prod(users, items)\n",
    "                users_all, items_all = all_pair[:,0], all_pair[:,1]\n",
    "\n",
    "                y_hat_all = base_model(users_all, items_all)\n",
    "                y_hat_all_detach = torch.detach(y_hat_all)\n",
    "                g_all = imputation_model(users_all, items_all)\n",
    "\n",
    "                loss_all = sum_criterion(y_hat_all, g_all + y_hat_all_detach) # sum(e_hat)\n",
    "\n",
    "                # observation data\n",
    "                y_hat_obs = base_model(users_train, items_train)\n",
    "                y_hat_obs_detach = torch.detach(y_hat_obs)\n",
    "                g_obs = imputation_model(users_train, items_train)\n",
    "\n",
    "                e_obs = none_criterion(y_hat_obs, y_train)\n",
    "                e_hat_obs = none_criterion(y_hat_obs, g_obs + y_hat_obs_detach)\n",
    "\n",
    "                cost_obs = e_obs - e_hat_obs\n",
    "                loss_obs = torch.sum(weight * cost_obs)\n",
    "\n",
    "                loss_base = loss_all + loss_obs + base_model_args['weight_decay'] * base_model.l2_norm(users_all, items_all)\n",
    "\n",
    "                base_optimizer.zero_grad()\n",
    "                loss_base.backward()\n",
    "                base_optimizer.step()\n",
    "        \n",
    "        base_model.eval()\n",
    "        with torch.no_grad():\n",
    "            # training metrics\n",
    "            train_pre_ratings = torch.empty(0).to(device)\n",
    "            train_ratings = torch.empty(0).to(device)\n",
    "            for u_batch_idx, users in enumerate(train_loader.User_loader): \n",
    "                for i_batch_idx, items in enumerate(train_loader.Item_loader): \n",
    "                    users_train, items_train, y_train = train_loader.get_batch(users, items)\n",
    "                    pre_ratings = base_model(users_train, items_train)\n",
    "                    train_pre_ratings = torch.cat((train_pre_ratings, pre_ratings))\n",
    "                    train_ratings = torch.cat((train_ratings, y_train))\n",
    "\n",
    "            # validation metrics\n",
    "            val_pre_ratings = torch.empty(0).to(device)\n",
    "            val_ratings = torch.empty(0).to(device)\n",
    "            for batch_idx, (users, items, ratings) in enumerate(val_loader):\n",
    "                pre_ratings = base_model(users, items)\n",
    "                val_pre_ratings = torch.cat((val_pre_ratings, pre_ratings))\n",
    "                val_ratings = torch.cat((val_ratings, ratings))\n",
    "            \n",
    "        train_results = utils.metrics.evaluate(train_pre_ratings, train_ratings, ['MSE', 'NLL'])\n",
    "        val_results = utils.metrics.evaluate(val_pre_ratings, val_ratings, ['MSE', 'NLL', 'AUC'])\n",
    "\n",
    "        print('Epoch: {0:2d} / {1}, Traning: {2}, Validation: {3}'.\n",
    "                format(epo, training_args['epochs'], ' '.join([key+':'+'%.3f'%train_results[key] for key in train_results]), \n",
    "                ' '.join([key+':'+'%.3f'%val_results[key] for key in val_results])))\n",
    "\n",
    "        if early_stopping.check([val_results['AUC']], epo):\n",
    "            break\n",
    "\n",
    "# testing loss\n",
    "print('Loading {}th epoch'.format(early_stopping.best_epoch))\n",
    "base_model.load_state_dict(early_stopping.best_state)\n",
    "\n",
    "# validation metrics\n",
    "val_pre_ratings = torch.empty(0).to(device)\n",
    "val_ratings = torch.empty(0).to(device)\n",
    "for batch_idx, (users, items, ratings) in enumerate(val_loader):\n",
    "    pre_ratings = base_model(users, items)\n",
    "    val_pre_ratings = torch.cat((val_pre_ratings, pre_ratings))\n",
    "    val_ratings = torch.cat((val_ratings, ratings))\n",
    "\n",
    "# test metrics\n",
    "test_users = torch.empty(0, dtype=torch.int64).to(device)\n",
    "test_items = torch.empty(0, dtype=torch.int64).to(device)\n",
    "test_pre_ratings = torch.empty(0).to(device)\n",
    "test_ratings = torch.empty(0).to(device)\n",
    "for batch_idx, (users, items, ratings) in enumerate(test_loader):\n",
    "    pre_ratings = base_model(users, items)\n",
    "    test_users = torch.cat((test_users, users))\n",
    "    test_items = torch.cat((test_items, items))\n",
    "    test_pre_ratings = torch.cat((test_pre_ratings, pre_ratings))\n",
    "    test_ratings = torch.cat((test_ratings, ratings))\n",
    "\n",
    "val_results = utils.metrics.evaluate(val_pre_ratings, val_ratings, ['MSE', 'NLL', 'AUC'])\n",
    "test_results = utils.metrics.evaluate(test_pre_ratings, test_ratings, ['MSE', 'NLL', 'AUC', 'Recall_Precision_NDCG@'], users=test_users, items=test_items)\n",
    "print('-'*30)\n",
    "print('The performance of validation set: {}'.format(' '.join([key+':'+'%.3f'%val_results[key] for key in val_results])))\n",
    "print('The performance of testing set: {}'.format(' '.join([key+':'+'%.3f'%test_results[key] for key in test_results])))\n",
    "print('-'*30)"
   ]
  },
  {
   "cell_type": "code",
   "execution_count": null,
   "metadata": {},
   "outputs": [],
   "source": []
  }
 ],
 "metadata": {
  "kernelspec": {
   "display_name": "Python 3",
   "language": "python",
   "name": "python3"
  },
  "language_info": {
   "codemirror_mode": {
    "name": "ipython",
    "version": 3
   },
   "file_extension": ".py",
   "mimetype": "text/x-python",
   "name": "python",
   "nbconvert_exporter": "python",
   "pygments_lexer": "ipython3",
   "version": "3.10.6"
  },
  "orig_nbformat": 4
 },
 "nbformat": 4,
 "nbformat_minor": 2
}
